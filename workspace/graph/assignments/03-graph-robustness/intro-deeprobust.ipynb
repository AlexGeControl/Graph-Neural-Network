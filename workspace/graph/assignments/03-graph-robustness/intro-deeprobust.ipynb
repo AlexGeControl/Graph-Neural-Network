{
 "cells": [
  {
   "cell_type": "markdown",
   "metadata": {},
   "source": [
    "#第六章"
   ]
  },
  {
   "cell_type": "markdown",
   "metadata": {},
   "source": [
    "在前面课程中，我们学习了图神经网络的基础实现，并且见识了图神经网络在图相关任务上的卓越能力。但是，图神经网络存在着鲁棒性的问题：图神经网络在面对对抗攻击（adversarial attack）时表现并不好。换而言之，当攻击者（attacker）对图数据进行微小的、刻意的改动时，图神经网络的性能会大幅下降。"
   ]
  },
  {
   "cell_type": "markdown",
   "metadata": {},
   "source": [
    "在本次课上，我们将使用DeepRobust工具包，来进行图神经网络上的对抗攻击与防御的实践。本节课的目标是让大家熟练掌握这个对抗攻击与防御的使用，而不涉及到具体的算法细节。学有余力的同学可以根据对应的文献链接深入学习。"
   ]
  },
  {
   "cell_type": "markdown",
   "metadata": {},
   "source": [
    "## 1. DeepRobust基础"
   ]
  },
  {
   "cell_type": "markdown",
   "metadata": {},
   "source": [
    "DeepRobust是由密歇根州立大学汤继良教授团队开发的针对于对抗攻击与防御的工具包，发表于顶级会议AAAI 2021。它基于PyTorch实现，包含了图神经网络领域和计算机视觉领域的常见攻击和防御的算法。该工具包在图鲁棒性领域被经常使用，其具体代码链接可见https://github.com/DSE-MSU/DeepRobust ，也欢迎大家点个收藏，star一下：）谢谢！ "
   ]
  },
  {
   "cell_type": "markdown",
   "metadata": {},
   "source": [
    "### 1.1 DeepRobust安装"
   ]
  },
  {
   "cell_type": "markdown",
   "metadata": {},
   "source": [
    "对于DeepRobust的安装，我们选用如下任何一种方式：\n",
    "\n",
    "1. 使用pip直接安装\n",
    "  \n",
    "  `pip install deeprobust==0.2.4`\n",
    "\n",
    "\n",
    "2. 源码安装\n",
    "  \n",
    "  `git clone https://github.com/DSE-MSU/DeepRobust.git\n",
    "cd DeepRobust\n",
    "python setup.py install` "
   ]
  },
  {
   "cell_type": "markdown",
   "metadata": {},
   "source": [
    "### 1.2 利用DeepRobust加载数据集"
   ]
  },
  {
   "cell_type": "markdown",
   "metadata": {},
   "source": [
    "DeepRobust工具包按照应用领域划分为graph和image两个模块。其中graph模块针对于图神经网络，这也是本次课所需要用到的。"
   ]
  },
  {
   "cell_type": "markdown",
   "metadata": {},
   "source": [
    "#### 1.2.1 加载未被攻击的数据集"
   ]
  },
  {
   "cell_type": "markdown",
   "metadata": {},
   "source": [
    "DeepRobust支持下载常见的标准数据集，比如Cora, Cora-ML, Citeseer, Pubmed, Polblogs, ACM, BlogCatalog, Flickr和UAI。这里我们继续以Cora数据集为例，使用`deeprobust.graph.data.Dataset`来展示加载数据集的过程。"
   ]
  },
  {
   "cell_type": "code",
   "execution_count": 2,
   "metadata": {},
   "outputs": [
    {
     "name": "stdout",
     "output_type": "stream",
     "text": [
      "Loading cora dataset...\n",
      "Selecting 1 largest connected components\n"
     ]
    }
   ],
   "source": [
    "# set up session:\n",
    "from deeprobust.graph.data import Dataset\n",
    "\n",
    "# get dataset:\n",
    "data = Dataset(root='./data', name='cora', setting='nettack') # 数据集由ProGNN提供: https://github.com/ChandlerBang/Pro-GNN\n",
    "\n",
    "# exploratory analysis:\n",
    "adj, features, labels = data.adj, data.features, data.labels\n",
    "idx_train, idx_val, idx_test = data.idx_train, data.idx_val, data.idx_test"
   ]
  },
  {
   "cell_type": "code",
   "execution_count": 3,
   "metadata": {},
   "outputs": [
    {
     "data": {
      "text/plain": [
       "<2485x2485 sparse matrix of type '<class 'numpy.float32'>'\n",
       "\twith 10138 stored elements in Compressed Sparse Row format>"
      ]
     },
     "execution_count": 3,
     "metadata": {},
     "output_type": "execute_result"
    }
   ],
   "source": [
    "adj"
   ]
  },
  {
   "cell_type": "code",
   "execution_count": 4,
   "metadata": {},
   "outputs": [
    {
     "data": {
      "text/plain": [
       "<2485x1433 sparse matrix of type '<class 'numpy.float32'>'\n",
       "\twith 45487 stored elements in Compressed Sparse Row format>"
      ]
     },
     "execution_count": 4,
     "metadata": {},
     "output_type": "execute_result"
    }
   ],
   "source": [
    "features"
   ]
  },
  {
   "cell_type": "code",
   "execution_count": 5,
   "metadata": {},
   "outputs": [
    {
     "name": "stdout",
     "output_type": "stream",
     "text": [
      "(247,)\n",
      "(249,)\n",
      "(1988,)\n"
     ]
    }
   ],
   "source": [
    "print(idx_train.shape) \n",
    "print(idx_val.shape) \n",
    "print(idx_test.shape)"
   ]
  },
  {
   "cell_type": "markdown",
   "metadata": {},
   "source": [
    "值得注意的是\n",
    "* `deeprobust.graph.data.Dataset`存储了图的邻接矩阵、节点特征矩阵和训练/验证/测试节点。\n",
    "* `deeprobust.graph.data.Dataset`接收一个setting参数，该参数可以是`nettack`、`prognn`或者`gcn`。`nettack`表示我们采用Nettack算法中使用的设置，即选取图的最大连通图，并且训练集/验证集/测试集的划分采用10%/10%/80%；`prognn`的设置同`nettack`一样，只是数据集的划分是固定的（由ProGNN提供），不随着随机种子的变化而变化；`gcn`表示我们采用GCN算法中使用的设置，即使用整张图，并且训练集由每个类别的20个节点构成，验证集/测试集是500/1000个节点。\n"
   ]
  },
  {
   "cell_type": "markdown",
   "metadata": {},
   "source": [
    "#### 1.2.2 加载攻击后的数据集"
   ]
  },
  {
   "cell_type": "code",
   "execution_count": 7,
   "metadata": {},
   "outputs": [
    {
     "name": "stdout",
     "output_type": "stream",
     "text": [
      "Loading cora dataset perturbed by 0.05 meta...\n"
     ]
    },
    {
     "name": "stderr",
     "output_type": "stream",
     "text": [
      "/opt/anaconda/envs/graph/lib/python3.7/site-packages/deeprobust/graph/data/attacked_data.py:135: UserWarning: The pre-attacked graph is perturbed under the data splits provided by ProGNN. So if you are going to verify the attacking performance, you should use the same data splits  (setting='prognn').\n",
      "  warnings.warn(\"The pre-attacked graph is perturbed under the data splits provided by ProGNN. So if you are going to verify the attacking performance, you should use the same data splits  (setting='prognn').\")\n"
     ]
    }
   ],
   "source": [
    "from deeprobust.graph.data import PrePtbDataset\n",
    "\n",
    "# 加载攻击后的数据集\n",
    "perturbed_data = PrePtbDataset(\n",
    "    root='./data',\n",
    "    name='cora',\n",
    "    attack_method='meta',\n",
    "    ptb_rate=0.05\n",
    ")\n",
    "\n",
    "perturbed_adj = perturbed_data.adj"
   ]
  },
  {
   "cell_type": "markdown",
   "metadata": {},
   "source": [
    "值得注意的是：\n",
    "* `deeprobust.graph.data.PrePtbDataset`提供的是被攻击后的邻接矩阵，并不涉及到对节点特征的改变。\n",
    "* `attack_method`表示攻击算法，这里我们采用的是`meta`，也就是Metattack (https://arxiv.org/abs/1902.08412) ，它是一个无目标攻击，旨在对整个图进行扰动。\n",
    "* `ptb_rate`表示扰动的幅度，这里我们采用的0.05，即在原图上产生5%的扰动。"
   ]
  },
  {
   "cell_type": "markdown",
   "metadata": {},
   "source": [
    "### 1.3 防御模型"
   ]
  },
  {
   "cell_type": "markdown",
   "metadata": {},
   "source": [
    "`deeprobust.graph.defense`中提供了多种防御模型，其中也包括了受害模型GCN。因此，我们可以直接调用`deeprobust.graph.defense.GCN`来完成多种测试。"
   ]
  },
  {
   "cell_type": "code",
   "execution_count": 9,
   "metadata": {},
   "outputs": [
    {
     "ename": "ImportError",
     "evalue": "cannot import name 'open' from 'smart_open' (/opt/anaconda/envs/graph/lib/python3.7/site-packages/smart_open/__init__.py)",
     "output_type": "error",
     "traceback": [
      "\u001b[0;31m---------------------------------------------------------------------------\u001b[0m",
      "\u001b[0;31mImportError\u001b[0m                               Traceback (most recent call last)",
      "\u001b[0;32m<ipython-input-9-978101735166>\u001b[0m in \u001b[0;36m<module>\u001b[0;34m\u001b[0m\n\u001b[0;32m----> 1\u001b[0;31m \u001b[0;32mfrom\u001b[0m \u001b[0mdeeprobust\u001b[0m\u001b[0;34m.\u001b[0m\u001b[0mgraph\u001b[0m\u001b[0;34m.\u001b[0m\u001b[0mdefense\u001b[0m \u001b[0;32mimport\u001b[0m \u001b[0mGCN\u001b[0m\u001b[0;34m\u001b[0m\u001b[0;34m\u001b[0m\u001b[0m\n\u001b[0m\u001b[1;32m      2\u001b[0m \u001b[0;34m\u001b[0m\u001b[0m\n\u001b[1;32m      3\u001b[0m \u001b[0mdevice\u001b[0m \u001b[0;34m=\u001b[0m \u001b[0;34m'cuda:0'\u001b[0m\u001b[0;34m\u001b[0m\u001b[0;34m\u001b[0m\u001b[0m\n\u001b[1;32m      4\u001b[0m \u001b[0;34m\u001b[0m\u001b[0m\n\u001b[1;32m      5\u001b[0m gcn = GCN(\n",
      "\u001b[0;32m/opt/anaconda/envs/graph/lib/python3.7/site-packages/deeprobust/graph/defense/__init__.py\u001b[0m in \u001b[0;36m<module>\u001b[0;34m\u001b[0m\n\u001b[1;32m      4\u001b[0m \u001b[0;32mfrom\u001b[0m \u001b[0;34m.\u001b[0m\u001b[0mprognn\u001b[0m \u001b[0;32mimport\u001b[0m \u001b[0mProGNN\u001b[0m\u001b[0;34m\u001b[0m\u001b[0;34m\u001b[0m\u001b[0m\n\u001b[1;32m      5\u001b[0m \u001b[0;32mfrom\u001b[0m \u001b[0;34m.\u001b[0m\u001b[0msimpgcn\u001b[0m \u001b[0;32mimport\u001b[0m \u001b[0mSimPGCN\u001b[0m\u001b[0;34m\u001b[0m\u001b[0;34m\u001b[0m\u001b[0m\n\u001b[0;32m----> 6\u001b[0;31m \u001b[0;32mfrom\u001b[0m \u001b[0;34m.\u001b[0m\u001b[0mnode_embedding\u001b[0m \u001b[0;32mimport\u001b[0m \u001b[0mNode2Vec\u001b[0m\u001b[0;34m,\u001b[0m \u001b[0mDeepWalk\u001b[0m\u001b[0;34m\u001b[0m\u001b[0;34m\u001b[0m\u001b[0m\n\u001b[0m\u001b[1;32m      7\u001b[0m \u001b[0;32mimport\u001b[0m \u001b[0mwarnings\u001b[0m\u001b[0;34m\u001b[0m\u001b[0;34m\u001b[0m\u001b[0m\n\u001b[1;32m      8\u001b[0m \u001b[0;32mtry\u001b[0m\u001b[0;34m:\u001b[0m\u001b[0;34m\u001b[0m\u001b[0;34m\u001b[0m\u001b[0m\n",
      "\u001b[0;32m/opt/anaconda/envs/graph/lib/python3.7/site-packages/deeprobust/graph/defense/node_embedding.py\u001b[0m in \u001b[0;36m<module>\u001b[0;34m\u001b[0m\n\u001b[1;32m     10\u001b[0m \u001b[0;32mimport\u001b[0m \u001b[0mnumpy\u001b[0m \u001b[0;32mas\u001b[0m \u001b[0mnp\u001b[0m\u001b[0;34m\u001b[0m\u001b[0;34m\u001b[0m\u001b[0m\n\u001b[1;32m     11\u001b[0m \u001b[0;32mimport\u001b[0m \u001b[0mscipy\u001b[0m\u001b[0;34m.\u001b[0m\u001b[0msparse\u001b[0m \u001b[0;32mas\u001b[0m \u001b[0msp\u001b[0m\u001b[0;34m\u001b[0m\u001b[0;34m\u001b[0m\u001b[0m\n\u001b[0;32m---> 12\u001b[0;31m \u001b[0;32mfrom\u001b[0m \u001b[0mgensim\u001b[0m\u001b[0;34m.\u001b[0m\u001b[0mmodels\u001b[0m \u001b[0;32mimport\u001b[0m \u001b[0mWord2Vec\u001b[0m\u001b[0;34m\u001b[0m\u001b[0;34m\u001b[0m\u001b[0m\n\u001b[0m\u001b[1;32m     13\u001b[0m \u001b[0;32mimport\u001b[0m \u001b[0mnetworkx\u001b[0m \u001b[0;32mas\u001b[0m \u001b[0mnx\u001b[0m\u001b[0;34m\u001b[0m\u001b[0;34m\u001b[0m\u001b[0m\n\u001b[1;32m     14\u001b[0m \u001b[0;32mfrom\u001b[0m \u001b[0mgensim\u001b[0m\u001b[0;34m.\u001b[0m\u001b[0mmodels\u001b[0m \u001b[0;32mimport\u001b[0m \u001b[0mKeyedVectors\u001b[0m\u001b[0;34m\u001b[0m\u001b[0;34m\u001b[0m\u001b[0m\n",
      "\u001b[0;32m/opt/anaconda/envs/graph/lib/python3.7/site-packages/gensim/__init__.py\u001b[0m in \u001b[0;36m<module>\u001b[0;34m\u001b[0m\n\u001b[1;32m      3\u001b[0m \"\"\"\n\u001b[1;32m      4\u001b[0m \u001b[0;34m\u001b[0m\u001b[0m\n\u001b[0;32m----> 5\u001b[0;31m \u001b[0;32mfrom\u001b[0m \u001b[0mgensim\u001b[0m \u001b[0;32mimport\u001b[0m \u001b[0mparsing\u001b[0m\u001b[0;34m,\u001b[0m \u001b[0mcorpora\u001b[0m\u001b[0;34m,\u001b[0m \u001b[0mmatutils\u001b[0m\u001b[0;34m,\u001b[0m \u001b[0minterfaces\u001b[0m\u001b[0;34m,\u001b[0m \u001b[0mmodels\u001b[0m\u001b[0;34m,\u001b[0m \u001b[0msimilarities\u001b[0m\u001b[0;34m,\u001b[0m \u001b[0msummarization\u001b[0m\u001b[0;34m,\u001b[0m \u001b[0mutils\u001b[0m  \u001b[0;31m# noqa:F401\u001b[0m\u001b[0;34m\u001b[0m\u001b[0;34m\u001b[0m\u001b[0m\n\u001b[0m\u001b[1;32m      6\u001b[0m \u001b[0;32mimport\u001b[0m \u001b[0mlogging\u001b[0m\u001b[0;34m\u001b[0m\u001b[0;34m\u001b[0m\u001b[0m\n\u001b[1;32m      7\u001b[0m \u001b[0;34m\u001b[0m\u001b[0m\n",
      "\u001b[0;32m/opt/anaconda/envs/graph/lib/python3.7/site-packages/gensim/parsing/__init__.py\u001b[0m in \u001b[0;36m<module>\u001b[0;34m\u001b[0m\n\u001b[1;32m      2\u001b[0m \u001b[0;34m\u001b[0m\u001b[0m\n\u001b[1;32m      3\u001b[0m \u001b[0;32mfrom\u001b[0m \u001b[0;34m.\u001b[0m\u001b[0mporter\u001b[0m \u001b[0;32mimport\u001b[0m \u001b[0mPorterStemmer\u001b[0m  \u001b[0;31m# noqa:F401\u001b[0m\u001b[0;34m\u001b[0m\u001b[0;34m\u001b[0m\u001b[0m\n\u001b[0;32m----> 4\u001b[0;31m from .preprocessing import (remove_stopwords, strip_punctuation, strip_punctuation2,  # noqa:F401\n\u001b[0m\u001b[1;32m      5\u001b[0m                             \u001b[0mstrip_tags\u001b[0m\u001b[0;34m,\u001b[0m \u001b[0mstrip_short\u001b[0m\u001b[0;34m,\u001b[0m \u001b[0mstrip_numeric\u001b[0m\u001b[0;34m,\u001b[0m\u001b[0;34m\u001b[0m\u001b[0;34m\u001b[0m\u001b[0m\n\u001b[1;32m      6\u001b[0m                             \u001b[0mstrip_non_alphanum\u001b[0m\u001b[0;34m,\u001b[0m \u001b[0mstrip_multiple_whitespaces\u001b[0m\u001b[0;34m,\u001b[0m\u001b[0;34m\u001b[0m\u001b[0;34m\u001b[0m\u001b[0m\n",
      "\u001b[0;32m/opt/anaconda/envs/graph/lib/python3.7/site-packages/gensim/parsing/preprocessing.py\u001b[0m in \u001b[0;36m<module>\u001b[0;34m\u001b[0m\n\u001b[1;32m     40\u001b[0m \u001b[0;32mimport\u001b[0m \u001b[0mglob\u001b[0m\u001b[0;34m\u001b[0m\u001b[0;34m\u001b[0m\u001b[0m\n\u001b[1;32m     41\u001b[0m \u001b[0;34m\u001b[0m\u001b[0m\n\u001b[0;32m---> 42\u001b[0;31m \u001b[0;32mfrom\u001b[0m \u001b[0mgensim\u001b[0m \u001b[0;32mimport\u001b[0m \u001b[0mutils\u001b[0m\u001b[0;34m\u001b[0m\u001b[0;34m\u001b[0m\u001b[0m\n\u001b[0m\u001b[1;32m     43\u001b[0m \u001b[0;32mfrom\u001b[0m \u001b[0mgensim\u001b[0m\u001b[0;34m.\u001b[0m\u001b[0mparsing\u001b[0m\u001b[0;34m.\u001b[0m\u001b[0mporter\u001b[0m \u001b[0;32mimport\u001b[0m \u001b[0mPorterStemmer\u001b[0m\u001b[0;34m\u001b[0m\u001b[0;34m\u001b[0m\u001b[0m\n\u001b[1;32m     44\u001b[0m \u001b[0;34m\u001b[0m\u001b[0m\n",
      "\u001b[0;32m/opt/anaconda/envs/graph/lib/python3.7/site-packages/gensim/utils.py\u001b[0m in \u001b[0;36m<module>\u001b[0;34m\u001b[0m\n\u001b[1;32m     43\u001b[0m \u001b[0;32mfrom\u001b[0m \u001b[0msix\u001b[0m\u001b[0;34m.\u001b[0m\u001b[0mmoves\u001b[0m \u001b[0;32mimport\u001b[0m \u001b[0mrange\u001b[0m\u001b[0;34m\u001b[0m\u001b[0;34m\u001b[0m\u001b[0m\n\u001b[1;32m     44\u001b[0m \u001b[0;34m\u001b[0m\u001b[0m\n\u001b[0;32m---> 45\u001b[0;31m \u001b[0;32mfrom\u001b[0m \u001b[0msmart_open\u001b[0m \u001b[0;32mimport\u001b[0m \u001b[0mopen\u001b[0m\u001b[0;34m\u001b[0m\u001b[0;34m\u001b[0m\u001b[0m\n\u001b[0m\u001b[1;32m     46\u001b[0m \u001b[0;34m\u001b[0m\u001b[0m\n\u001b[1;32m     47\u001b[0m \u001b[0;32mfrom\u001b[0m \u001b[0mmultiprocessing\u001b[0m \u001b[0;32mimport\u001b[0m \u001b[0mcpu_count\u001b[0m\u001b[0;34m\u001b[0m\u001b[0;34m\u001b[0m\u001b[0m\n",
      "\u001b[0;31mImportError\u001b[0m: cannot import name 'open' from 'smart_open' (/opt/anaconda/envs/graph/lib/python3.7/site-packages/smart_open/__init__.py)"
     ]
    }
   ],
   "source": [
    "from deeprobust.graph.defense import GCN\n",
    "\n",
    "device = 'cuda:0'\n",
    "\n",
    "gcn = GCN(\n",
    "    nfeat=features.shape[1],\n",
    "    nhid=16,\n",
    "    nclass=labels.max().item() + 1,\n",
    "    dropout=0.5, \n",
    "    device=device\n",
    ")\n",
    "gcn = gcn.to(device)\n",
    "gcn.fit(features, adj, labels, idx_train, idx_val) # 在未被攻击的图上训练\n",
    "gcn.test(idx_test)  # 测试"
   ]
  },
  {
   "cell_type": "markdown",
   "metadata": {},
   "source": [
    "可见，GCN在未被攻击的图上的正确率是83.6%"
   ]
  },
  {
   "cell_type": "markdown",
   "metadata": {},
   "source": [
    "## 2 图节点攻击"
   ]
  },
  {
   "cell_type": "markdown",
   "metadata": {},
   "source": [
    "目前对图数据的对抗攻击主要集中在节点分类任务上，因此这里我们也主要讲解图节点攻击。"
   ]
  },
  {
   "cell_type": "markdown",
   "metadata": {},
   "source": [
    "图节点攻击可以根据划分攻击的对象划分为有目标攻击和无目标攻击：\n",
    "- 有目标攻击：在给定一小部分测试节点 (或目标节点) 的情况下，攻击者的目标是使模型对这些测试样本进行错误分类。\n",
    "- 无目标攻击：攻击者的目标是通过扰动图数据以降低模型的整体性能。"
   ]
  },
  {
   "cell_type": "markdown",
   "metadata": {},
   "source": [
    "### 2.1 有目标攻击\n",
    "\n",
    "`deeprobust.graph.targeted_attack`提供了多种有目标攻击方法，详情可见该[链接](https://deeprobust.readthedocs.io/en/latest/graph/attack.html#targeted-attack-for-node-classification)。\n",
    "\n",
    "Nettack (https://arxiv.org/abs/1805.07984) 算法是经典的有目标攻击。给定待攻击的目标节点，Nettack会生成针对于该节点的扰动，这种扰动可以是改变目标节点的边，也可以是改变目标节点的节点特征。下面根据[test_nettack.py](https://github.com/DSE-MSU/DeepRobust/blob/master/examples/graph/test_nettack.py)来具体展示Nettack的使用与测试。"
   ]
  },
  {
   "cell_type": "markdown",
   "metadata": {},
   "source": [
    "那么首先我们加载数据集。"
   ]
  },
  {
   "cell_type": "code",
   "execution_count": 7,
   "metadata": {},
   "outputs": [
    {
     "name": "stdout",
     "output_type": "stream",
     "text": [
      "Loading cora dataset...\n",
      "Selecting 1 largest connected components\n"
     ]
    }
   ],
   "source": [
    "from deeprobust.graph.data import Dataset\n",
    "from deeprobust.graph.defense import GCN\n",
    "from deeprobust.graph.targeted_attack import Nettack\n",
    "data = Dataset(root='./', name='cora', setting='prognn')\n",
    "adj, features, labels = data.adj, data.features, data.labels\n",
    "idx_train, idx_val, idx_test = data.idx_train, data.idx_val, data.idx_test"
   ]
  },
  {
   "cell_type": "markdown",
   "metadata": {},
   "source": [
    "通常我们在生成对抗攻击的时候，会假定我们不知道被攻击的模型是什么。因此采用一个代理模型来生成攻击。这个代理模型一个2层的线性GCN。"
   ]
  },
  {
   "cell_type": "code",
   "execution_count": 8,
   "metadata": {},
   "outputs": [],
   "source": [
    "# 设置代理模型\n",
    "surrogate = GCN(nfeat=features.shape[1], nclass=labels.max().item()+1,\n",
    "                nhid=16, dropout=0, with_relu=False, with_bias=False, device='cpu').to('cpu')\n",
    "surrogate.fit(features, adj, labels, idx_train, idx_val, patience=30)"
   ]
  },
  {
   "cell_type": "code",
   "execution_count": 9,
   "metadata": {},
   "outputs": [
    {
     "name": "stdout",
     "output_type": "stream",
     "text": [
      "##### Starting attack #####\n",
      "##### Attack node with ID 0 using structure and feature perturbations #####\n",
      "##### Attacking the node directly #####\n",
      "##### Performing 5 perturbations #####\n",
      "##### ...1/5 perturbations ... #####\n"
     ]
    },
    {
     "name": "stderr",
     "output_type": "stream",
     "text": [
      "/Users/jinwei/anaconda3/envs/gnn/lib/python3.8/site-packages/numba/core/ir_utils.py:2119: NumbaPendingDeprecationWarning: \n",
      "Encountered the use of a type that is scheduled for deprecation: type 'reflected set' found for argument 'edges_set' of function 'compute_new_a_hat_uv'.\n",
      "\n",
      "For more information visit https://numba.pydata.org/numba-doc/latest/reference/deprecation.html#deprecation-of-reflection-for-list-and-set-types\n",
      "\n",
      "File \"../../../anaconda3/envs/gnn/lib/python3.8/site-packages/deeprobust/graph/targeted_attack/nettack.py\", line 501:\n",
      "@jit(nopython=True)\n",
      "def compute_new_a_hat_uv(edge_ixs, node_nb_ixs, edges_set, twohop_ixs, values_before, degs, potential_edges, u):\n",
      "^\n",
      "\n",
      "  warnings.warn(NumbaPendingDeprecationWarning(msg, loc=loc))\n"
     ]
    },
    {
     "name": "stdout",
     "output_type": "stream",
     "text": [
      "Edge perturbation: [  0 839]\n",
      "##### ...2/5 perturbations ... #####\n",
      "Edge perturbation: [   0 1664]\n",
      "##### ...3/5 perturbations ... #####\n",
      "Edge perturbation: [   0 1084]\n",
      "##### ...4/5 perturbations ... #####\n",
      "Edge perturbation: [   0 2400]\n",
      "##### ...5/5 perturbations ... #####\n",
      "Edge perturbation: [   0 2218]\n"
     ]
    }
   ],
   "source": [
    "# 设置攻击模型\n",
    "target_node = 0\n",
    "device = 'cpu'\n",
    "model = Nettack(surrogate, nnodes=adj.shape[0], attack_structure=True, \n",
    "                attack_features=True, device=device).to(device)\n",
    "# 产生攻击\n",
    "model.attack(features, adj, labels, target_node, n_perturbations=5) # n_perturbations: 改动的数量\n",
    "modified_adj = model.modified_adj \n",
    "modified_features = model.modified_features "
   ]
  },
  {
   "cell_type": "code",
   "execution_count": 10,
   "metadata": {},
   "outputs": [],
   "source": [
    "def test_evasion():\n",
    "    # target_gcn是被攻击的模型\n",
    "    target_gcn = GCN(nfeat=features.shape[1],\n",
    "              nhid=16,\n",
    "              nclass=labels.max().item() + 1,\n",
    "              dropout=0.5, device=device)\n",
    "\n",
    "    target_gcn = target_gcn.to(device)\n",
    "    target_gcn.fit(features, adj, labels, idx_train, idx_val, patience=30)\n",
    "\n",
    "    cnt = 0 # 错误分类的节点数量\n",
    "    degrees = adj.sum(0).A1\n",
    "    node_list = list(range(0, 10)) # 这里我们选取0-9目标节点\n",
    "    num = len(node_list)\n",
    "\n",
    "    print('=== 分别攻击并测试%s个节点 ===' % num)\n",
    "    for target_node in (node_list):\n",
    "        n_perturbations = int(degrees[target_node]) # 每个节点产生n_perturbations次扰动\n",
    "        model = Nettack(surrogate, nnodes=adj.shape[0], attack_structure=True, attack_features=True, device=device)\n",
    "        model = model.to(device)\n",
    "        model.attack(features, adj, labels, target_node, n_perturbations, verbose=False)\n",
    "        modified_adj = model.modified_adj\n",
    "        modified_features = model.modified_features\n",
    "\n",
    "        acc = single_test(modified_adj, modified_features, target_node, gcn=target_gcn)\n",
    "        if acc == 0:\n",
    "            cnt += 1\n",
    "    print('misclassification rate : %s' % (cnt/num))"
   ]
  },
  {
   "cell_type": "code",
   "execution_count": 11,
   "metadata": {},
   "outputs": [],
   "source": [
    "def single_test(adj, features, target_node, gcn=None):\n",
    "    # 对于给定的目标节点，测试给定的GCN能否将其预测正确\n",
    "    output = gcn.predict(features, adj)\n",
    "    probs = torch.exp(output[[target_node]])\n",
    "    acc_test = (output.argmax(1)[target_node] == labels[target_node])\n",
    "    return acc_test.item()"
   ]
  },
  {
   "cell_type": "code",
   "execution_count": 12,
   "metadata": {},
   "outputs": [
    {
     "name": "stdout",
     "output_type": "stream",
     "text": [
      "=== 分别攻击并测试10个节点 ===\n",
      "misclassification rate : 1.0\n"
     ]
    }
   ],
   "source": [
    "from deeprobust.graph.utils import classification_margin\n",
    "import numpy as np\n",
    "import torch\n",
    "device = 'cpu'\n",
    "test_evasion()"
   ]
  },
  {
   "cell_type": "markdown",
   "metadata": {},
   "source": [
    "由此可见，10个节点中10个节点在攻击后都被错误分类了。"
   ]
  },
  {
   "cell_type": "markdown",
   "metadata": {},
   "source": [
    "### 2.2 无目标攻击\n",
    "\n",
    "`deeprobust.graph.global_attack`提供了多种无目标攻击方法（也称为全局攻击），详情可见该[链接](https://deeprobust.readthedocs.io/en/latest/graph/attack.html#global-untargeted-attack-for-node-classification)。"
   ]
  },
  {
   "cell_type": "markdown",
   "metadata": {},
   "source": [
    "Metattack (https://arxiv.org/abs/1902.08412) 是经典的无目标攻击算法。攻击者的目标是通过扰动图数据以降低模型的整体性能。"
   ]
  },
  {
   "cell_type": "code",
   "execution_count": 13,
   "metadata": {},
   "outputs": [],
   "source": [
    "from deeprobust.graph.defense import GCN\n",
    "from deeprobust.graph.global_attack import Metattack\n",
    "idx_train, idx_val, idx_test = data.idx_train, data.idx_val, data.idx_test\n",
    "idx_unlabeled = np.union1d(idx_val, idx_test)\n",
    "\n",
    "# 设置代理模型\n",
    "device = 'cpu'\n",
    "surrogate = GCN(nfeat=features.shape[1], nclass=labels.max().item()+1,\n",
    "            nhid=16, dropout=0, with_relu=False, with_bias=False, device=device).to(device)\n",
    "surrogate.fit(features, adj, labels, idx_train, idx_val, patience=30)"
   ]
  },
  {
   "cell_type": "code",
   "execution_count": 14,
   "metadata": {},
   "outputs": [
    {
     "name": "stderr",
     "output_type": "stream",
     "text": [
      "\n",
      "Perturbing graph:   0%|          | 0/30 [00:00<?, ?it/s]"
     ]
    },
    {
     "name": "stdout",
     "output_type": "stream",
     "text": [
      "GCN loss on unlabled data: 0.5156663060188293\n",
      "GCN acc on unlabled data: 0.8341528833258829\n",
      "attack loss: 0.3001675009727478\n"
     ]
    },
    {
     "name": "stderr",
     "output_type": "stream",
     "text": [
      "\n",
      "Perturbing graph:   3%|▎         | 1/30 [00:15<07:22, 15.26s/it]"
     ]
    },
    {
     "name": "stdout",
     "output_type": "stream",
     "text": [
      "GCN loss on unlabled data: 0.5193763375282288\n",
      "GCN acc on unlabled data: 0.8345999105945463\n",
      "attack loss: 0.3204508423805237\n"
     ]
    },
    {
     "name": "stderr",
     "output_type": "stream",
     "text": [
      "\n",
      "Perturbing graph:   7%|▋         | 2/30 [00:30<07:12, 15.44s/it]"
     ]
    },
    {
     "name": "stdout",
     "output_type": "stream",
     "text": [
      "GCN loss on unlabled data: 0.5314207077026367\n",
      "GCN acc on unlabled data: 0.8243182834152883\n",
      "attack loss: 0.32165858149528503\n"
     ]
    },
    {
     "name": "stderr",
     "output_type": "stream",
     "text": [
      "\n",
      "Perturbing graph:  10%|█         | 3/30 [00:46<07:02, 15.64s/it]"
     ]
    },
    {
     "name": "stdout",
     "output_type": "stream",
     "text": [
      "GCN loss on unlabled data: 0.5399283170700073\n",
      "GCN acc on unlabled data: 0.8319177469825659\n",
      "attack loss: 0.3386460244655609\n"
     ]
    },
    {
     "name": "stderr",
     "output_type": "stream",
     "text": [
      "\n",
      "Perturbing graph:  13%|█▎        | 4/30 [01:02<06:51, 15.84s/it]"
     ]
    },
    {
     "name": "stdout",
     "output_type": "stream",
     "text": [
      "GCN loss on unlabled data: 0.5061646103858948\n",
      "GCN acc on unlabled data: 0.8399642378185069\n",
      "attack loss: 0.3170529305934906\n"
     ]
    },
    {
     "name": "stderr",
     "output_type": "stream",
     "text": [
      "\n",
      "Perturbing graph:  17%|█▋        | 5/30 [01:21<07:05, 17.01s/it]"
     ]
    },
    {
     "name": "stdout",
     "output_type": "stream",
     "text": [
      "GCN loss on unlabled data: 0.5317788124084473\n",
      "GCN acc on unlabled data: 0.8337058560572195\n",
      "attack loss: 0.3485099673271179\n"
     ]
    },
    {
     "name": "stderr",
     "output_type": "stream",
     "text": [
      "\n",
      "Perturbing graph:  20%|██        | 6/30 [01:41<07:12, 18.00s/it]"
     ]
    },
    {
     "name": "stdout",
     "output_type": "stream",
     "text": [
      "GCN loss on unlabled data: 0.5260494351387024\n",
      "GCN acc on unlabled data: 0.8368350469378633\n",
      "attack loss: 0.3492489159107208\n"
     ]
    },
    {
     "name": "stderr",
     "output_type": "stream",
     "text": [
      "\n",
      "Perturbing graph:  23%|██▎       | 7/30 [02:03<07:19, 19.13s/it]"
     ]
    },
    {
     "name": "stdout",
     "output_type": "stream",
     "text": [
      "GCN loss on unlabled data: 0.5452233552932739\n",
      "GCN acc on unlabled data: 0.8368350469378633\n",
      "attack loss: 0.3448265492916107\n"
     ]
    },
    {
     "name": "stderr",
     "output_type": "stream",
     "text": [
      "\n",
      "Perturbing graph:  27%|██▋       | 8/30 [02:25<07:21, 20.09s/it]"
     ]
    },
    {
     "name": "stdout",
     "output_type": "stream",
     "text": [
      "GCN loss on unlabled data: 0.54532390832901\n",
      "GCN acc on unlabled data: 0.8328118015198928\n",
      "attack loss: 0.36370202898979187\n"
     ]
    },
    {
     "name": "stderr",
     "output_type": "stream",
     "text": [
      "\n",
      "Perturbing graph:  30%|███       | 9/30 [02:48<07:21, 21.02s/it]"
     ]
    },
    {
     "name": "stdout",
     "output_type": "stream",
     "text": [
      "GCN loss on unlabled data: 0.5374183654785156\n",
      "GCN acc on unlabled data: 0.8363880196691998\n",
      "attack loss: 0.3568730354309082\n"
     ]
    },
    {
     "name": "stderr",
     "output_type": "stream",
     "text": [
      "\n",
      "Perturbing graph:  33%|███▎      | 10/30 [03:17<07:52, 23.62s/it]"
     ]
    },
    {
     "name": "stdout",
     "output_type": "stream",
     "text": [
      "GCN loss on unlabled data: 0.5632250308990479\n",
      "GCN acc on unlabled data: 0.8270004470272687\n",
      "attack loss: 0.37023985385894775\n"
     ]
    },
    {
     "name": "stderr",
     "output_type": "stream",
     "text": [
      "\n",
      "Perturbing graph:  37%|███▋      | 11/30 [03:53<08:38, 27.31s/it]"
     ]
    },
    {
     "name": "stdout",
     "output_type": "stream",
     "text": [
      "GCN loss on unlabled data: 0.5627285838127136\n",
      "GCN acc on unlabled data: 0.8220831470719714\n",
      "attack loss: 0.3807367980480194\n"
     ]
    },
    {
     "name": "stderr",
     "output_type": "stream",
     "text": [
      "\n",
      "Perturbing graph:  40%|████      | 12/30 [04:19<08:05, 27.00s/it]"
     ]
    },
    {
     "name": "stdout",
     "output_type": "stream",
     "text": [
      "GCN loss on unlabled data: 0.5617240071296692\n",
      "GCN acc on unlabled data: 0.8345999105945463\n",
      "attack loss: 0.37798529863357544\n"
     ]
    },
    {
     "name": "stderr",
     "output_type": "stream",
     "text": [
      "\n",
      "Perturbing graph:  43%|████▎     | 13/30 [04:42<07:18, 25.79s/it]"
     ]
    },
    {
     "name": "stdout",
     "output_type": "stream",
     "text": [
      "GCN loss on unlabled data: 0.5600396990776062\n",
      "GCN acc on unlabled data: 0.8261063924899419\n",
      "attack loss: 0.36479589343070984\n"
     ]
    },
    {
     "name": "stderr",
     "output_type": "stream",
     "text": [
      "\n",
      "Perturbing graph:  47%|████▋     | 14/30 [05:03<06:26, 24.17s/it]"
     ]
    },
    {
     "name": "stdout",
     "output_type": "stream",
     "text": [
      "GCN loss on unlabled data: 0.5731773972511292\n",
      "GCN acc on unlabled data: 0.8287885561019223\n",
      "attack loss: 0.38580429553985596\n"
     ]
    },
    {
     "name": "stderr",
     "output_type": "stream",
     "text": [
      "\n",
      "Perturbing graph:  50%|█████     | 15/30 [05:26<05:56, 23.75s/it]"
     ]
    },
    {
     "name": "stdout",
     "output_type": "stream",
     "text": [
      "GCN loss on unlabled data: 0.5819525718688965\n",
      "GCN acc on unlabled data: 0.8238712561466249\n",
      "attack loss: 0.391593873500824\n"
     ]
    },
    {
     "name": "stderr",
     "output_type": "stream",
     "text": [
      "\n",
      "Perturbing graph:  53%|█████▎    | 16/30 [05:51<05:40, 24.35s/it]"
     ]
    },
    {
     "name": "stdout",
     "output_type": "stream",
     "text": [
      "GCN loss on unlabled data: 0.587059736251831\n",
      "GCN acc on unlabled data: 0.8162717925793473\n",
      "attack loss: 0.4072369635105133\n"
     ]
    },
    {
     "name": "stderr",
     "output_type": "stream",
     "text": [
      "\n",
      "Perturbing graph:  57%|█████▋    | 17/30 [06:17<05:22, 24.81s/it]"
     ]
    },
    {
     "name": "stdout",
     "output_type": "stream",
     "text": [
      "GCN loss on unlabled data: 0.6088142395019531\n",
      "GCN acc on unlabled data: 0.8126955744300403\n",
      "attack loss: 0.41320517659187317\n"
     ]
    },
    {
     "name": "stderr",
     "output_type": "stream",
     "text": [
      "\n",
      "Perturbing graph:  60%|██████    | 18/30 [06:44<05:03, 25.30s/it]"
     ]
    },
    {
     "name": "stdout",
     "output_type": "stream",
     "text": [
      "GCN loss on unlabled data: 0.6190527677536011\n",
      "GCN acc on unlabled data: 0.813589628967367\n",
      "attack loss: 0.41476958990097046\n"
     ]
    },
    {
     "name": "stderr",
     "output_type": "stream",
     "text": [
      "\n",
      "Perturbing graph:  63%|██████▎   | 19/30 [07:12<04:47, 26.09s/it]"
     ]
    },
    {
     "name": "stdout",
     "output_type": "stream",
     "text": [
      "GCN loss on unlabled data: 0.6131423115730286\n",
      "GCN acc on unlabled data: 0.8243182834152883\n",
      "attack loss: 0.44078728556632996\n"
     ]
    },
    {
     "name": "stderr",
     "output_type": "stream",
     "text": [
      "\n",
      "Perturbing graph:  67%|██████▋   | 20/30 [07:39<04:25, 26.57s/it]"
     ]
    },
    {
     "name": "stdout",
     "output_type": "stream",
     "text": [
      "GCN loss on unlabled data: 0.5960479378700256\n",
      "GCN acc on unlabled data: 0.8287885561019223\n",
      "attack loss: 0.436710387468338\n"
     ]
    },
    {
     "name": "stderr",
     "output_type": "stream",
     "text": [
      "\n",
      "Perturbing graph:  70%|███████   | 21/30 [08:08<04:04, 27.17s/it]"
     ]
    },
    {
     "name": "stdout",
     "output_type": "stream",
     "text": [
      "GCN loss on unlabled data: 0.5990771651268005\n",
      "GCN acc on unlabled data: 0.8180599016540009\n",
      "attack loss: 0.42962896823883057\n"
     ]
    },
    {
     "name": "stderr",
     "output_type": "stream",
     "text": [
      "\n",
      "Perturbing graph:  73%|███████▎  | 22/30 [08:33<03:31, 26.41s/it]"
     ]
    },
    {
     "name": "stdout",
     "output_type": "stream",
     "text": [
      "GCN loss on unlabled data: 0.5733917355537415\n",
      "GCN acc on unlabled data: 0.8261063924899419\n",
      "attack loss: 0.4208603799343109\n"
     ]
    },
    {
     "name": "stderr",
     "output_type": "stream",
     "text": [
      "\n",
      "Perturbing graph:  77%|███████▋  | 23/30 [09:00<03:06, 26.62s/it]"
     ]
    },
    {
     "name": "stdout",
     "output_type": "stream",
     "text": [
      "GCN loss on unlabled data: 0.5862934589385986\n",
      "GCN acc on unlabled data: 0.8283415288332588\n",
      "attack loss: 0.4336068332195282\n"
     ]
    },
    {
     "name": "stderr",
     "output_type": "stream",
     "text": [
      "\n",
      "Perturbing graph:  80%|████████  | 24/30 [09:31<02:47, 27.98s/it]"
     ]
    },
    {
     "name": "stdout",
     "output_type": "stream",
     "text": [
      "GCN loss on unlabled data: 0.6081318855285645\n",
      "GCN acc on unlabled data: 0.8202950379973178\n",
      "attack loss: 0.44887757301330566\n"
     ]
    },
    {
     "name": "stderr",
     "output_type": "stream",
     "text": [
      "\n",
      "Perturbing graph:  83%|████████▎ | 25/30 [09:56<02:15, 27.14s/it]"
     ]
    },
    {
     "name": "stdout",
     "output_type": "stream",
     "text": [
      "GCN loss on unlabled data: 0.6090421080589294\n",
      "GCN acc on unlabled data: 0.8220831470719714\n",
      "attack loss: 0.4538861811161041\n"
     ]
    },
    {
     "name": "stderr",
     "output_type": "stream",
     "text": [
      "\n",
      "Perturbing graph:  87%|████████▋ | 26/30 [10:25<01:50, 27.60s/it]"
     ]
    },
    {
     "name": "stdout",
     "output_type": "stream",
     "text": [
      "GCN loss on unlabled data: 0.5781428813934326\n",
      "GCN acc on unlabled data: 0.8207420652659813\n",
      "attack loss: 0.40788301825523376\n"
     ]
    },
    {
     "name": "stderr",
     "output_type": "stream",
     "text": [
      "\n",
      "Perturbing graph:  90%|█████████ | 27/30 [10:51<01:21, 27.24s/it]"
     ]
    },
    {
     "name": "stdout",
     "output_type": "stream",
     "text": [
      "GCN loss on unlabled data: 0.6314337849617004\n",
      "GCN acc on unlabled data: 0.8198480107286544\n",
      "attack loss: 0.4730527997016907\n"
     ]
    },
    {
     "name": "stderr",
     "output_type": "stream",
     "text": [
      "\n",
      "Perturbing graph:  93%|█████████▎| 28/30 [11:17<00:53, 26.83s/it]"
     ]
    },
    {
     "name": "stdout",
     "output_type": "stream",
     "text": [
      "GCN loss on unlabled data: 0.6395632028579712\n",
      "GCN acc on unlabled data: 0.821636119803308\n",
      "attack loss: 0.47677046060562134\n"
     ]
    },
    {
     "name": "stderr",
     "output_type": "stream",
     "text": [
      "\n",
      "Perturbing graph:  97%|█████████▋| 29/30 [11:41<00:26, 26.15s/it]"
     ]
    },
    {
     "name": "stdout",
     "output_type": "stream",
     "text": [
      "GCN loss on unlabled data: 0.5842111706733704\n",
      "GCN acc on unlabled data: 0.8243182834152883\n",
      "attack loss: 0.41277840733528137\n"
     ]
    },
    {
     "name": "stderr",
     "output_type": "stream",
     "text": [
      "Perturbing graph: 100%|██████████| 30/30 [12:04<00:00, 24.14s/it]\n"
     ]
    }
   ],
   "source": [
    "# 设置攻击模型\n",
    "model = Metattack(surrogate, nnodes=adj.shape[0], feature_shape=features.shape,\n",
    "    attack_structure=True, attack_features=False, device=device, lambda_=0).to(device)\n",
    "# 产生攻击\n",
    "model.attack(features, adj, labels, idx_train, idx_unlabeled, n_perturbations=30, ll_constraint=False)\n",
    "modified_adj = model.modified_adj"
   ]
  },
  {
   "cell_type": "markdown",
   "metadata": {},
   "source": [
    "可以看到GCN的准确率在不断下降，如果我们增大`n_perturbation`，即产生更多的扰动，我们会发现GCN的准确率降得更多。"
   ]
  },
  {
   "cell_type": "markdown",
   "metadata": {},
   "source": [
    "## 3. 图防御"
   ]
  },
  {
   "cell_type": "markdown",
   "metadata": {},
   "source": [
    "`deeprobust.graph.defense`既提供了受害模型，也提供了防御模型。"
   ]
  },
  {
   "cell_type": "markdown",
   "metadata": {},
   "source": [
    "### 3.1 受害模型-GCN"
   ]
  },
  {
   "cell_type": "markdown",
   "metadata": {},
   "source": [
    "* GCN在未攻击的数据集上的准确率"
   ]
  },
  {
   "cell_type": "code",
   "execution_count": 15,
   "metadata": {},
   "outputs": [
    {
     "name": "stdout",
     "output_type": "stream",
     "text": [
      "Test set results: loss= 0.5835 accuracy= 0.8310\n"
     ]
    },
    {
     "data": {
      "text/plain": [
       "0.8309859154929577"
      ]
     },
     "execution_count": 15,
     "metadata": {},
     "output_type": "execute_result"
    }
   ],
   "source": [
    "from deeprobust.graph.defense import GCN\n",
    "gcn = GCN(nfeat=features.shape[1],\n",
    "    nhid=16,\n",
    "    nclass=labels.max().item() + 1,\n",
    "    dropout=0.5, device='cpu')\n",
    "gcn = gcn.to('cpu')\n",
    "gcn.fit(features, adj, labels, idx_train, idx_val) # train on clean graph with earlystopping\n",
    "gcn.test(idx_test)"
   ]
  },
  {
   "cell_type": "markdown",
   "metadata": {},
   "source": [
    "* GCN在攻击后的数据集上的准确率"
   ]
  },
  {
   "cell_type": "code",
   "execution_count": 16,
   "metadata": {},
   "outputs": [
    {
     "name": "stdout",
     "output_type": "stream",
     "text": [
      "Dowloading from https://raw.githubusercontent.com/ChandlerBang/Pro-GNN/master/meta/cora_meta_adj_0.15.npz to ./cora_meta_adj_0.15.npz\n",
      "Loading cora dataset perturbed by 0.15 meta...\n"
     ]
    },
    {
     "name": "stderr",
     "output_type": "stream",
     "text": [
      "/Users/jinwei/anaconda3/envs/gnn/lib/python3.8/site-packages/deeprobust/graph/data/attacked_data.py:135: UserWarning: The pre-attacked graph is perturbed under the data splits provided by ProGNN. So if you are going to verify the attacking performance, you should use the same data splits  (setting='prognn').\n",
      "  warnings.warn(\"The pre-attacked graph is perturbed under the data splits provided by ProGNN. So if you are going to verify the attacking performance, you should use the same data splits  (setting='prognn').\")\n"
     ]
    }
   ],
   "source": [
    "from deeprobust.graph.data import PrePtbDataset\n",
    "\n",
    "# 加载攻击后的数据集\n",
    "perturbed_data = PrePtbDataset(root='./',\n",
    "                               name='cora',\n",
    "                               attack_method='meta',\n",
    "                               ptb_rate=0.15)\n",
    "perturbed_adj = perturbed_data.adj"
   ]
  },
  {
   "cell_type": "code",
   "execution_count": 17,
   "metadata": {},
   "outputs": [
    {
     "name": "stdout",
     "output_type": "stream",
     "text": [
      "Test set results: loss= 1.0198 accuracy= 0.6665\n"
     ]
    },
    {
     "data": {
      "text/plain": [
       "0.6664989939637826"
      ]
     },
     "execution_count": 17,
     "metadata": {},
     "output_type": "execute_result"
    }
   ],
   "source": [
    "from deeprobust.graph.defense import GCN\n",
    "gcn = GCN(nfeat=features.shape[1],\n",
    "    nhid=16,\n",
    "    nclass=labels.max().item() + 1,\n",
    "    dropout=0.5, device='cpu')\n",
    "gcn = gcn.to('cpu')\n",
    "gcn.fit(features, perturbed_adj, labels, idx_train, idx_val) # 在攻击后的图上训练\n",
    "gcn.test(idx_test) # 测试"
   ]
  },
  {
   "cell_type": "markdown",
   "metadata": {},
   "source": [
    "### 3.2 防御模型"
   ]
  },
  {
   "cell_type": "markdown",
   "metadata": {},
   "source": [
    "`deeprobust.graph.defense`提供了多种防御模型，见https://deeprobust.readthedocs.io/en/latest/graph/defense.html 。这里我们介绍三种防御模型：GCN-Jaccard, GCN-SVD和SimP-GCN。"
   ]
  },
  {
   "cell_type": "markdown",
   "metadata": {},
   "source": [
    "#### 3.2.1 GCN-Jaccard"
   ]
  },
  {
   "cell_type": "markdown",
   "metadata": {},
   "source": [
    "GCN-Jaccard: Topology Attack and Defense for Graph Neural Networks: An Optimization Perspective. IJCAI 2019. [[link]](https://arxiv.org/abs/1906.04214)\n",
    "\n",
    "这是一个preprocessing的方法，设定一个阈值，如果一条边连接的节点的特征相似度小于这个阈值，就将这条边从原图中去除掉。"
   ]
  },
  {
   "cell_type": "code",
   "execution_count": 18,
   "metadata": {},
   "outputs": [
    {
     "name": "stdout",
     "output_type": "stream",
     "text": [
      "removed 1518 edges in the original graph\n",
      "=== training gcn model ===\n",
      "Epoch 0, training loss: 1.9749406576156616\n",
      "Epoch 10, training loss: 1.175236463546753\n",
      "Epoch 20, training loss: 0.6082561612129211\n",
      "Epoch 30, training loss: 0.3917170763015747\n",
      "Epoch 40, training loss: 0.23299939930438995\n",
      "Epoch 50, training loss: 0.1789323389530182\n",
      "Epoch 60, training loss: 0.13330627977848053\n",
      "Epoch 70, training loss: 0.11566731333732605\n",
      "Epoch 80, training loss: 0.10089001804590225\n",
      "Epoch 90, training loss: 0.09981972724199295\n",
      "Epoch 100, training loss: 0.10356651991605759\n",
      "Epoch 110, training loss: 0.0702764168381691\n",
      "Epoch 120, training loss: 0.0931367352604866\n",
      "Epoch 130, training loss: 0.07908263057470322\n",
      "Epoch 140, training loss: 0.06909453868865967\n",
      "Epoch 150, training loss: 0.0729149803519249\n",
      "Epoch 160, training loss: 0.07578791677951813\n",
      "Epoch 170, training loss: 0.07674360275268555\n",
      "Epoch 180, training loss: 0.07467232644557953\n",
      "Epoch 190, training loss: 0.06876475363969803\n",
      "=== picking the best model according to the performance on validation ===\n",
      "Test set results: loss= 0.8175 accuracy= 0.7425\n"
     ]
    },
    {
     "data": {
      "text/plain": [
       "0.7424547283702213"
      ]
     },
     "execution_count": 18,
     "metadata": {},
     "output_type": "execute_result"
    }
   ],
   "source": [
    "from deeprobust.graph.defense import GCNJaccard\n",
    "device = 'cpu'\n",
    "model = GCNJaccard(nfeat=features.shape[1],\n",
    "          nhid=16,\n",
    "          nclass=labels.max().item() + 1,\n",
    "          dropout=0.5, device=device).to(device)\n",
    "model.fit(features, perturbed_adj, labels, idx_train, idx_val, threshold=0.03) # threshold: 阈值\n",
    "model.test(idx_test)"
   ]
  },
  {
   "cell_type": "markdown",
   "metadata": {},
   "source": [
    "#### 3.2.2 GCN-SVD"
   ]
  },
  {
   "cell_type": "markdown",
   "metadata": {},
   "source": [
    "GCN-SVD: \n",
    "All You Need Is Low (Rank): Defending Against Adversarial Attacks on Graphs. WSDM 2020. [[link]](https://dl.acm.org/doi/10.1145/3336191.3371789)\n",
    "\n",
    "这是一个preprocessing的方法，对图的邻接矩阵进行低秩重建，重建后的矩阵作为新的邻接矩阵并用于之后的训练。"
   ]
  },
  {
   "cell_type": "code",
   "execution_count": 19,
   "metadata": {},
   "outputs": [
    {
     "name": "stdout",
     "output_type": "stream",
     "text": [
      "=== GCN-SVD: rank=100 ===\n",
      "rank_after = 100\n",
      "=== training gcn model ===\n",
      "Epoch 0, training loss: 1.9552216529846191\n",
      "Epoch 10, training loss: 1.5008515119552612\n",
      "Epoch 20, training loss: 1.1178503036499023\n",
      "Epoch 30, training loss: 0.8090840578079224\n",
      "Epoch 40, training loss: 0.6276935935020447\n",
      "Epoch 50, training loss: 0.5435107946395874\n",
      "Epoch 60, training loss: 0.4792371392250061\n",
      "Epoch 70, training loss: 0.4338090121746063\n",
      "Epoch 80, training loss: 0.44298121333122253\n",
      "Epoch 90, training loss: 0.42618483304977417\n",
      "Epoch 100, training loss: 0.4140397012233734\n",
      "Epoch 110, training loss: 0.38197365403175354\n",
      "Epoch 120, training loss: 0.35434502363204956\n",
      "Epoch 130, training loss: 0.3219848871231079\n",
      "Epoch 140, training loss: 0.33682191371917725\n",
      "Epoch 150, training loss: 0.3034411072731018\n",
      "Epoch 160, training loss: 0.27679041028022766\n",
      "Epoch 170, training loss: 0.3170067369937897\n",
      "Epoch 180, training loss: 0.2706894874572754\n",
      "Epoch 190, training loss: 0.24787534773349762\n",
      "=== picking the best model according to the performance on validation ===\n",
      "Test set results: loss= 0.8862 accuracy= 0.7108\n"
     ]
    },
    {
     "data": {
      "text/plain": [
       "0.7107645875251509"
      ]
     },
     "execution_count": 19,
     "metadata": {},
     "output_type": "execute_result"
    }
   ],
   "source": [
    "from deeprobust.graph.defense import GCNSVD\n",
    "device = 'cpu'\n",
    "model = GCNSVD(nfeat=features.shape[1],\n",
    "          nhid=16,\n",
    "          nclass=labels.max().item() + 1,\n",
    "          dropout=0.5, device=device).to(device)\n",
    "model.fit(features, perturbed_adj, labels, idx_train, idx_val, k=100) # 希望新的邻接矩阵的秩(rank)是100\n",
    "model.test(idx_test)"
   ]
  },
  {
   "cell_type": "markdown",
   "metadata": {},
   "source": [
    "#### 3.2.3 SimP-GCN"
   ]
  },
  {
   "cell_type": "markdown",
   "metadata": {},
   "source": [
    "SimP-GCN: \n",
    "Node Similarity Preserving Graph Convolutional Networks. WSDM 2021. [[link]](https://arxiv.org/abs/2011.09643)\n",
    "\n",
    "SimP-GCN是一个end-to-end的算法，其核心思想是自适应的聚合过程，即有选择性地从邻居聚合信息。"
   ]
  },
  {
   "cell_type": "code",
   "execution_count": 20,
   "metadata": {},
   "outputs": [
    {
     "name": "stdout",
     "output_type": "stream",
     "text": [
      "=== training gcn model ===\n",
      "loading saved_knn/cosine_sims_(2485, 1433).npy\n",
      "number of sampled: 21979\n",
      "Epoch 0, training loss: 2.0498709678649902\n",
      "Epoch 10, training loss: 1.3449913263320923\n",
      "Epoch 20, training loss: 0.8083010315895081\n",
      "Epoch 30, training loss: 0.5047144293785095\n",
      "Epoch 40, training loss: 0.2681877613067627\n",
      "Epoch 50, training loss: 0.17347560822963715\n",
      "Epoch 60, training loss: 0.14486026763916016\n",
      "Epoch 70, training loss: 0.09580820798873901\n",
      "Epoch 80, training loss: 0.09125970304012299\n",
      "Epoch 90, training loss: 0.08068279176950455\n",
      "Epoch 100, training loss: 0.061251312494277954\n",
      "Epoch 110, training loss: 0.060837939381599426\n",
      "Epoch 120, training loss: 0.062687948346138\n",
      "Epoch 130, training loss: 0.059196677058935165\n",
      "Epoch 140, training loss: 0.05464547872543335\n",
      "Epoch 150, training loss: 0.04880011826753616\n",
      "Epoch 160, training loss: 0.049840740859508514\n",
      "Epoch 170, training loss: 0.04325786605477333\n",
      "Epoch 180, training loss: 0.05157814547419548\n",
      "Epoch 190, training loss: 0.042044952511787415\n",
      "=== picking the best model according to the performance on validation ===\n",
      "Test set results: loss= 0.6929 accuracy= 0.7852\n"
     ]
    },
    {
     "data": {
      "text/plain": [
       "0.7852112676056338"
      ]
     },
     "execution_count": 20,
     "metadata": {},
     "output_type": "execute_result"
    }
   ],
   "source": [
    "from deeprobust.graph.defense import SimPGCN\n",
    "device = 'cpu'\n",
    "model = SimPGCN(nnodes=features.shape[0], nfeat=features.shape[1],\n",
    "                nhid=16, nclass=labels.max()+1, device=device, \n",
    "                lambda_=0.1, gamma=0.01).to(device)\n",
    "model.fit(features, perturbed_adj, labels, idx_train, idx_val, train_iters=200, verbose=True)\n",
    "model.test(idx_test)"
   ]
  }
 ],
 "metadata": {
  "kernelspec": {
   "display_name": "Python 3",
   "language": "python",
   "name": "python3"
  },
  "language_info": {
   "codemirror_mode": {
    "name": "ipython",
    "version": 3
   },
   "file_extension": ".py",
   "mimetype": "text/x-python",
   "name": "python",
   "nbconvert_exporter": "python",
   "pygments_lexer": "ipython3",
   "version": "3.7.11"
  }
 },
 "nbformat": 4,
 "nbformat_minor": 4
}
