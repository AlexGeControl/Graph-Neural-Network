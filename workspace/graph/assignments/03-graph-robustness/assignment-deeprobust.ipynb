{
 "cells": [
  {
   "cell_type": "markdown",
   "metadata": {},
   "source": [
    "# 第六章"
   ]
  },
  {
   "cell_type": "markdown",
   "metadata": {},
   "source": [
    "在本次作业中，我们来实现一些简单的攻击方法。具体地，我们将对原邻接矩阵分别进行加边和减边操作。对于测试模型，我们使用`deeprobust.graph.defense.DeepWalk`。"
   ]
  },
  {
   "cell_type": "code",
   "execution_count": 1,
   "metadata": {},
   "outputs": [],
   "source": [
    "# set up session:\n",
    "import numpy as np\n",
    "import scipy.sparse as sp\n",
    "\n",
    "from deeprobust.graph.data import Dataset\n",
    "from deeprobust.graph.defense import DeepWalk\n",
    "\n",
    "device='cuda:0'"
   ]
  },
  {
   "cell_type": "code",
   "execution_count": 2,
   "metadata": {},
   "outputs": [
    {
     "name": "stdout",
     "output_type": "stream",
     "text": [
      "Loading cora dataset...\n",
      "Selecting 1 largest connected components\n"
     ]
    }
   ],
   "source": [
    "data = Dataset(root='./data', name='cora', setting='prognn')\n",
    "\n",
    "adj, features, labels = data.adj, data.features, data.labels\n",
    "idx_train, idx_val, idx_test = data.idx_train, data.idx_val, data.idx_test"
   ]
  },
  {
   "cell_type": "code",
   "execution_count": 3,
   "metadata": {},
   "outputs": [
    {
     "name": "stderr",
     "output_type": "stream",
     "text": [
      "/opt/anaconda/envs/graph/lib/python3.7/site-packages/numba/core/typed_passes.py:332: NumbaPerformanceWarning: \u001b[1m\n",
      "The keyword argument 'parallel=True' was specified but no transformation for parallel execution was possible.\n",
      "\n",
      "To find out why, try turning on parallel diagnostics, see https://numba.pydata.org/numba-doc/latest/user/parallel.html#diagnostics for help.\n",
      "\u001b[1m\n",
      "File \"../../../../opt/anaconda/envs/graph/lib/python3.7/site-packages/deeprobust/graph/defense/node_embedding.py\", line 332:\u001b[0m\n",
      "\u001b[1m@numba.jit(nopython=True, parallel=True)\n",
      "\u001b[1mdef _random_walk(indptr, indices, walk_length, walks_per_node, seed):\n",
      "\u001b[0m\u001b[1m^\u001b[0m\u001b[0m\n",
      "\u001b[0m\n",
      "  state.func_ir.loc))\n"
     ]
    },
    {
     "name": "stdout",
     "output_type": "stream",
     "text": [
      "Micro F1: 0.7972837022132797\n",
      "Macro F1: 0.7743413494924823\n"
     ]
    }
   ],
   "source": [
    "# init model:\n",
    "defender = DeepWalk()\n",
    "# train:\n",
    "defender.fit(adj)\n",
    "# evaluate:\n",
    "pred, micro_f1, macro_f1= defender.evaluate_node_classification(labels, idx_train, idx_test)"
   ]
  },
  {
   "cell_type": "markdown",
   "metadata": {},
   "source": [
    "下面我们来实现一个简单的攻击方式。"
   ]
  },
  {
   "cell_type": "code",
   "execution_count": 4,
   "metadata": {},
   "outputs": [],
   "source": [
    "class SimpleAttack():\n",
    "    \"\"\"\n",
    "    首先得到一定数量的边（称之为candidates），然后从候选边当中\n",
    "    根据某种方式（random或者degree）来选择最后需要扰动的边。\n",
    "        \n",
    "    参数说明\n",
    "    ----\n",
    "    metric: random或者degree。random表示随机选择，degree表示选择degree更大的边。\n",
    "    attack_type: add或者remove，分别表示加边和减边。\n",
    "    \"\"\"\n",
    "    def __init__(self, metric, attack_type):\n",
    "        self.metric = metric\n",
    "        self.attack_type = attack_type\n",
    "                 \n",
    "    def attack(self, adj, n_perturbations=1000, n_candidates=10000, seed=0):\n",
    "        if self.attack_type == 'add':\n",
    "            # 加边的时候我们设置一下n_candidates来限制选择范围，不然可以选择的边实在是太多了。\n",
    "            candidates = self.generate_candidates_addition(adj, n_candidates, seed) \n",
    "        elif self.attack_type == 'remove':\n",
    "            candidates = self.generate_candidates_removal(adj)\n",
    "        else:\n",
    "            raise NotImplementedError\n",
    "\n",
    "        if self.metric == \"random\":\n",
    "            top_flips = self.random_top_flips(candidates, n_perturbations, seed)\n",
    "        elif self.metric == \"degree\":\n",
    "            top_flips = self.degree_top_flips(adj, candidates, n_perturbations)\n",
    "        else:\n",
    "            raise NotImplementedError \n",
    "        \n",
    "        assert len(top_flips) == n_perturbations\n",
    "        modified_adj = self.flip_candidates(adj, top_flips)\n",
    "        self.modified_adj = modified_adj\n",
    "\n",
    "    def generate_candidates_removal(self, adj):\n",
    "        \"\"\"产生减边的候选边：从当前的所有边中除开那些会产生孤立节点的边。\n",
    "        \"\"\"\n",
    "        # first, build a minimum-spanning tree to identify all critical edges:\n",
    "        mst = sp.csgraph.minimum_spanning_tree(adj)\n",
    "        mst = mst.maximum(mst.T)\n",
    "        \n",
    "        # extract candidate edges:\n",
    "        candidates = list(\n",
    "            zip(*(adj - mst).nonzero())\n",
    "        )\n",
    "        \n",
    "        return candidates\n",
    "    \n",
    "    def generate_candidates_addition(self, adj, n_candidates, seed=None):\n",
    "        \"\"\"产生可以被加边的候选边（也就是说，现在不是边)。\n",
    "        \"\"\"\n",
    "        # set seed for numpy.random if provided:\n",
    "        if seed is not None:\n",
    "            np.random.seed(seed)\n",
    "\n",
    "        # generate candidates:\n",
    "        N = len(adj.indptr) - 1\n",
    "        \n",
    "        candidates = set()\n",
    "        while len(candidates) < n_candidates:\n",
    "            proposals = np.random.randint(0, N, [n_candidates, 2])\n",
    "            \n",
    "            proposals = set(\n",
    "                list(map(tuple, proposals[adj[proposals[:, 0], proposals[:, 1]].A1 < 1.0]))\n",
    "            )\n",
    "            \n",
    "            candidates = candidates.union(proposals)\n",
    "        candidates = list(candidates)\n",
    "        \n",
    "        return candidates[:n_candidates]\n",
    "    \n",
    "    def random_top_flips(self, candidates, n_perturbations, seed=None):\n",
    "        \"\"\"从candidates中随机选择n_perturbations个候选边。\n",
    "        \"\"\"\n",
    "        # set seed for numpy.random if provided:\n",
    "        if seed is not None:\n",
    "            np.random.seed(seed)\n",
    "            \n",
    "        return [\n",
    "            candidates[i] for i in \n",
    "            np.random.permutation(len(candidates))[:n_perturbations]\n",
    "        ]\n",
    "\n",
    "    def degree_top_flips(self, adj, candidates, n_perturbations):\n",
    "        \"\"\"从candidates中随机选择n_perturbations个degree最大的候选边。\n",
    "        这里，边的degree我们可以计算为它连接的节点的degree的相加。\n",
    "        \"\"\"\n",
    "        # get node degrees:\n",
    "        N = len(adj.indptr) - 1\n",
    "        node_degree = {\n",
    "            k: v for (k, v) in zip(range(N), np.diff(adj.indptr))\n",
    "        }\n",
    "        \n",
    "        # get candidate edge degree\n",
    "        edge_degree = [\n",
    "            node_degree[u] + node_degree[v] for (u, v) in candidates\n",
    "        ]\n",
    "        \n",
    "        return [\n",
    "            candidates[i] for i in \n",
    "            # identify most influential edges through fast selection:\n",
    "            np.argpartition(edge_degree, -n_perturbations)[-n_perturbations:]\n",
    "        ]\n",
    "    \n",
    "    def flip_candidates(self, adj, candidates):\n",
    "        \"\"\"翻转候选边，0变成1，1变成0。\n",
    "\n",
    "        返回值: sp.csr_matrix, shape [n_nodes, n_nodes]\n",
    "           翻转后的邻接矩阵。\n",
    "        \"\"\"\n",
    "        # num. of nodes:\n",
    "        N = len(adj.indptr) - 1\n",
    "        \n",
    "        # generate pertubation:\n",
    "        pertubation = sp.coo_matrix(\n",
    "            (np.ones(len(candidates)), tuple(zip(*candidates))), \n",
    "            shape=(N, N)\n",
    "        ).tocsr()\n",
    "        \n",
    "        # flip selected edges:\n",
    "        adj_flipped = pertubation - adj\n",
    "        \n",
    "        # prune:\n",
    "        adj_flipped.eliminate_zeros()\n",
    "        \n",
    "        # done:\n",
    "        return adj_flipped"
   ]
  },
  {
   "cell_type": "code",
   "execution_count": 5,
   "metadata": {},
   "outputs": [
    {
     "name": "stdout",
     "output_type": "stream",
     "text": [
      "random add\n",
      "Micro F1: 0.7484909456740443\n",
      "Macro F1: 0.7179212506057302\n",
      "random remove\n",
      "Micro F1: 0.7952716297786722\n",
      "Macro F1: 0.7689443654931297\n",
      "degree add\n",
      "Micro F1: 0.772635814889336\n",
      "Macro F1: 0.7468532574920008\n",
      "degree remove\n",
      "Micro F1: 0.7882293762575453\n",
      "Macro F1: 0.754619675083964\n"
     ]
    }
   ],
   "source": [
    "import itertools\n",
    "comb = itertools.product([\"random\", \"degree\"], [\"add\", \"remove\"])\n",
    "\n",
    "for metric, attack_type in comb:\n",
    "    print(metric, attack_type)\n",
    "    attacker = SimpleAttack(metric=metric, attack_type=attack_type)\n",
    "    attacker.attack(adj, n_perturbations=1000)\n",
    "    modified_adj = attacker.modified_adj\n",
    "    defender = DeepWalk()\n",
    "    defender.fit(modified_adj)\n",
    "    _ = defender.evaluate_node_classification(labels, idx_train, idx_test)"
   ]
  },
  {
   "cell_type": "markdown",
   "metadata": {},
   "source": [
    "比较之后我们会发现，加边比减边更具有破坏力。"
   ]
  },
  {
   "cell_type": "markdown",
   "metadata": {},
   "source": [
    "**我们也可以直接调用DeepRobust来完成这个任务**："
   ]
  },
  {
   "cell_type": "code",
   "execution_count": 6,
   "metadata": {},
   "outputs": [
    {
     "name": "stdout",
     "output_type": "stream",
     "text": [
      "random add\n",
      "Micro F1: 0.7112676056338029\n",
      "Macro F1: 0.6835577036603301\n",
      "random remove\n",
      "Micro F1: 0.7469818913480886\n",
      "Macro F1: 0.7260457807340718\n",
      "degree add\n",
      "Micro F1: 0.7137826961770624\n",
      "Macro F1: 0.6827644139178616\n",
      "degree remove\n",
      "Micro F1: 0.7565392354124748\n",
      "Macro F1: 0.72535397683836\n"
     ]
    }
   ],
   "source": [
    "from deeprobust.graph.global_attack import OtherNodeEmbeddingAttack\n",
    "import itertools\n",
    "comb = itertools.product([\"random\", \"degree\"], [\"add\", \"remove\"])\n",
    "\n",
    "for type_, attack_type in comb:\n",
    "    model = OtherNodeEmbeddingAttack(type=type_)\n",
    "    print(type_, attack_type)\n",
    "    model.attack(adj, attack_type=attack_type, n_candidates=10000)\n",
    "    modified_adj = model.modified_adj\n",
    "    defender = DeepWalk()\n",
    "    defender.fit(modified_adj)\n",
    "    defender.evaluate_node_classification(labels, idx_train, idx_test)"
   ]
  }
 ],
 "metadata": {
  "kernelspec": {
   "display_name": "Python 3",
   "language": "python",
   "name": "python3"
  },
  "language_info": {
   "codemirror_mode": {
    "name": "ipython",
    "version": 3
   },
   "file_extension": ".py",
   "mimetype": "text/x-python",
   "name": "python",
   "nbconvert_exporter": "python",
   "pygments_lexer": "ipython3",
   "version": "3.7.11"
  }
 },
 "nbformat": 4,
 "nbformat_minor": 4
}
