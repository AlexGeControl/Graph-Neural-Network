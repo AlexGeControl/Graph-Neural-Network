{
 "cells": [
  {
   "cell_type": "markdown",
   "metadata": {},
   "source": [
    "# 第三课：图神经网络"
   ]
  },
  {
   "cell_type": "markdown",
   "metadata": {},
   "source": [
    "图神经网络（Graph Neural Network, GNN）是深度神经网络（Deep Neural Network, DNN）在图数据上的泛化，它是非常强力的图特征提取工具。在本次实践课中，我们将讲解常见的图神经网络比如GCN和GAT，以及如何利用图神经网络来完成节点分类和图分类问题。"
   ]
  },
  {
   "cell_type": "markdown",
   "metadata": {},
   "source": [
    "## 1. GCN"
   ]
  },
  {
   "cell_type": "markdown",
   "metadata": {},
   "source": [
    "### 1.1 用矩阵形式实现GCN"
   ]
  },
  {
   "cell_type": "markdown",
   "metadata": {},
   "source": [
    "首先我们来回顾一下GCN每一层的操作。给定图的邻接矩阵$A$和节点特征矩阵$X$，如果我们用$W$表示GCN层中的参数、$H$表示隐藏层的特征，那么一层GCN中的操作可以表达为$H=\\text{ReLU}(AXW)$。"
   ]
  },
  {
   "cell_type": "code",
   "execution_count": 1,
   "metadata": {},
   "outputs": [],
   "source": [
    "# 导入需要用到的工具包\n",
    "import torch.nn as nn\n",
    "import torch.nn.functional as F\n",
    "import math\n",
    "import torch\n",
    "import torch.optim as optim\n",
    "from torch.nn.parameter import Parameter\n",
    "from sklearn.metrics import f1_score\n",
    "import scipy.sparse as sp\n",
    "import numpy as np"
   ]
  },
  {
   "cell_type": "code",
   "execution_count": 2,
   "metadata": {},
   "outputs": [],
   "source": [
    "class GraphConvolution(nn.Module):\n",
    "    \"\"\"GCN层，参考https://github.com/tkipf/pygcn\n",
    "    \n",
    "    参数说明\n",
    "    ----------\n",
    "    in_features : 输入特征的维度\n",
    "    out_features : 输出神经元的数量，也即类别的数量\n",
    "    with_bias: 是否带有偏置项\n",
    "    \"\"\"\n",
    "\n",
    "    def __init__(self, in_features, out_features, with_bias=True):\n",
    "        super(GraphConvolution, self).__init__()\n",
    "        self.in_features = in_features\n",
    "        self.out_features = out_features\n",
    "        self.weight = Parameter(torch.FloatTensor(in_features, out_features))\n",
    "        if with_bias:\n",
    "            self.bias = Parameter(torch.FloatTensor(out_features))\n",
    "        else:\n",
    "            self.register_parameter('bias', None)\n",
    "        self.reset_parameters()\n",
    "\n",
    "    def reset_parameters(self): \n",
    "        \"\"\"初始化参数\"\"\"\n",
    "        stdv = 1. / math.sqrt(self.weight.size(1))\n",
    "        self.weight.data.uniform_(-stdv, stdv)\n",
    "        if self.bias is not None:\n",
    "            self.bias.data.uniform_(-stdv, stdv)\n",
    "\n",
    "    def forward(self, x, adj):\n",
    "        \"\"\"前向传播\"\"\"\n",
    "        if x.data.is_sparse:\n",
    "            support = torch.spmm(x, self.weight) # XW\n",
    "        else:\n",
    "            support = torch.mm(x, self.weight) # XW\n",
    "        output = torch.spmm(adj, support) # AXW\n",
    "        if self.bias is not None:\n",
    "            return output + self.bias # AXW + b\n",
    "        else:\n",
    "            return output # AXW"
   ]
  },
  {
   "cell_type": "code",
   "execution_count": 3,
   "metadata": {},
   "outputs": [],
   "source": [
    "class GCN(nn.Module):\n",
    "    \"\"\" 2层GCN\n",
    "    \n",
    "    参数说明\n",
    "    ----------\n",
    "    nfeat : 输入特征的维度\n",
    "    nhid : 隐藏神经元的数量\n",
    "    nclass : 输出神经元的数量，也即类别的数量\n",
    "    dropout : dropout中的概率\n",
    "    with_bias: 是否带有偏置项\n",
    "    \"\"\"\n",
    "\n",
    "    def __init__(self, nfeat, nhid, nclass, dropout=0.5, with_bias=True):\n",
    "\n",
    "        super(GCN, self).__init__()\n",
    "\n",
    "        self.nfeat = nfeat\n",
    "        self.hidden_sizes = [nhid]\n",
    "        self.nclass = nclass\n",
    "        self.gc1 = GraphConvolution(nfeat, nhid, with_bias=with_bias)\n",
    "        self.gc2 = GraphConvolution(nhid, nclass, with_bias=with_bias)\n",
    "        self.dropout = dropout\n",
    "\n",
    "    def forward(self, x, adj):\n",
    "        x = F.relu(self.gc1(x, adj))\n",
    "        x = F.dropout(x, self.dropout, training=self.training)\n",
    "        x = self.gc2(x, adj)\n",
    "        return F.log_softmax(x, dim=1)\n",
    "\n",
    "    def initialize(self):\n",
    "        \"\"\"初始化每一层的参数\"\"\"\n",
    "        self.gc1.reset_parameters()\n",
    "        self.gc2.reset_parameters()"
   ]
  },
  {
   "cell_type": "markdown",
   "metadata": {},
   "source": [
    "定义好GCN模型后，我们来简单看看怎么使用这个模型。我们继续以Cora数据集为例。"
   ]
  },
  {
   "cell_type": "code",
   "execution_count": 4,
   "metadata": {},
   "outputs": [],
   "source": [
    "from torch_geometric.datasets import Planetoid\n",
    "from torch_geometric.utils import to_scipy_sparse_matrix\n",
    "dataset = Planetoid(root='./data', name='Cora') # 将数据保存在data文件夹下\n",
    "data = dataset[0]\n",
    "adj = to_scipy_sparse_matrix(data.edge_index)\n",
    "features = data.x\n",
    "labels = data.y"
   ]
  },
  {
   "cell_type": "code",
   "execution_count": 5,
   "metadata": {},
   "outputs": [
    {
     "data": {
      "text/plain": [
       "<2708x2708 sparse matrix of type '<class 'numpy.float32'>'\n",
       "\twith 10556 stored elements in COOrdinate format>"
      ]
     },
     "execution_count": 5,
     "metadata": {},
     "output_type": "execute_result"
    }
   ],
   "source": [
    "adj"
   ]
  },
  {
   "cell_type": "code",
   "execution_count": 6,
   "metadata": {},
   "outputs": [
    {
     "data": {
      "text/plain": [
       "tensor([[0., 0., 0.,  ..., 0., 0., 0.],\n",
       "        [0., 0., 0.,  ..., 0., 0., 0.],\n",
       "        [0., 0., 0.,  ..., 0., 0., 0.],\n",
       "        ...,\n",
       "        [0., 0., 0.,  ..., 0., 0., 0.],\n",
       "        [0., 0., 0.,  ..., 0., 0., 0.],\n",
       "        [0., 0., 0.,  ..., 0., 0., 0.]])"
      ]
     },
     "execution_count": 6,
     "metadata": {},
     "output_type": "execute_result"
    }
   ],
   "source": [
    "features"
   ]
  },
  {
   "cell_type": "markdown",
   "metadata": {},
   "source": [
    "接下来我们对邻接矩阵adj进行标准化（normalize）： \n",
    "\n",
    "$A \\leftarrow A + I$\n",
    "\n",
    "$\\hat{A}= D^{-1/2}{A}D^{-1/2}$ "
   ]
  },
  {
   "cell_type": "code",
   "execution_count": 7,
   "metadata": {},
   "outputs": [],
   "source": [
    "def normalize_adj(mx):\n",
    "    \"\"\"标准化：A' = (D + I)^-1/2 * ( A + I ) * (D + I)^-1/2\n",
    "    \"\"\"\n",
    "    mx = mx + sp.eye(mx.shape[0])\n",
    "    rowsum = np.array(mx.sum(1))\n",
    "    r_inv = np.power(rowsum, -1/2).flatten()\n",
    "    r_inv[np.isinf(r_inv)] = 0.\n",
    "    r_mat_inv = sp.diags(r_inv)\n",
    "    mx = r_mat_inv.dot(mx)\n",
    "    mx = mx.dot(r_mat_inv)\n",
    "    return mx"
   ]
  },
  {
   "cell_type": "code",
   "execution_count": 8,
   "metadata": {},
   "outputs": [
    {
     "data": {
      "text/plain": [
       "<2708x2708 sparse matrix of type '<class 'numpy.float64'>'\n",
       "\twith 13264 stored elements in Compressed Sparse Row format>"
      ]
     },
     "execution_count": 8,
     "metadata": {},
     "output_type": "execute_result"
    }
   ],
   "source": [
    "adj_norm = normalize_adj(adj)\n",
    "adj_norm"
   ]
  },
  {
   "cell_type": "code",
   "execution_count": 9,
   "metadata": {},
   "outputs": [],
   "source": [
    "def sparse_mx_to_torch_sparse_tensor(sparse_mx):\n",
    "    \"\"\"将scipy.sparse形式的稀疏矩阵变成torch里的sparse tensor\"\"\"\n",
    "    sparse_mx = sparse_mx.tocoo().astype(np.float32)\n",
    "    sparserow=torch.LongTensor(sparse_mx.row).unsqueeze(1)\n",
    "    sparsecol=torch.LongTensor(sparse_mx.col).unsqueeze(1)\n",
    "    sparseconcat=torch.cat((sparserow, sparsecol),1)\n",
    "    sparsedata=torch.FloatTensor(sparse_mx.data)\n",
    "    return torch.sparse.FloatTensor(sparseconcat.t(),sparsedata,torch.Size(sparse_mx.shape))"
   ]
  },
  {
   "cell_type": "code",
   "execution_count": 10,
   "metadata": {},
   "outputs": [
    {
     "data": {
      "text/plain": [
       "tensor(indices=tensor([[   0,  633, 1862,  ..., 1473, 2706, 2707],\n",
       "                       [   0,    0,    0,  ..., 2707, 2707, 2707]]),\n",
       "       values=tensor([0.2500, 0.2500, 0.2236,  ..., 0.2000, 0.2000, 0.2000]),\n",
       "       size=(2708, 2708), nnz=13264, layout=torch.sparse_coo)"
      ]
     },
     "execution_count": 10,
     "metadata": {},
     "output_type": "execute_result"
    }
   ],
   "source": [
    "adj_norm = sparse_mx_to_torch_sparse_tensor(adj_norm)\n",
    "adj_norm"
   ]
  },
  {
   "cell_type": "code",
   "execution_count": 11,
   "metadata": {},
   "outputs": [
    {
     "name": "stdout",
     "output_type": "stream",
     "text": [
      "torch.Size([2708, 7])\n",
      "tensor([[-2.0752, -2.3191, -2.0057,  ..., -2.0551, -1.2794, -2.2606],\n",
      "        [-2.2196, -2.2833, -1.9542,  ..., -2.6939, -1.0202, -2.2464],\n",
      "        [-2.4039, -1.8827, -2.1646,  ..., -2.4674, -1.2409, -2.2958],\n",
      "        ...,\n",
      "        [-2.4754, -1.8965, -1.7704,  ..., -2.0333, -1.4974, -2.0669],\n",
      "        [-2.1612, -2.2552, -2.2599,  ..., -1.8761, -1.3045, -2.1174],\n",
      "        [-2.1761, -2.2625, -2.3818,  ..., -1.7510, -1.3544, -2.1298]],\n",
      "       grad_fn=<LogSoftmaxBackward>)\n"
     ]
    }
   ],
   "source": [
    "nclass = labels.max().item()+1\n",
    "model = GCN(nfeat=features.shape[1], nhid=16, nclass=nclass)\n",
    "output = model(features, adj_norm)\n",
    "print(output.shape)\n",
    "print(output)"
   ]
  },
  {
   "cell_type": "markdown",
   "metadata": {},
   "source": [
    "### 1.2 PyTorch Geometric实现GCN"
   ]
  },
  {
   "cell_type": "markdown",
   "metadata": {},
   "source": [
    "在这个小节，我们通过PyG来实现GCN。PyG中GCN的实现与上面用矩阵乘法的实现主要有以下不同：\n",
    "\n",
    "- *PyG中，对`edge_index`和`edge_weight`进行操作，而不是`torch.SparseTensor`。*\n"
   ]
  },
  {
   "cell_type": "markdown",
   "metadata": {},
   "source": [
    "#### 1.2.1 直接调用PyG提供的接口"
   ]
  },
  {
   "cell_type": "code",
   "execution_count": 16,
   "metadata": {},
   "outputs": [],
   "source": [
    "from torch_geometric.nn import GCNConv\n",
    "\n",
    "class GCN(torch.nn.Module):\n",
    "    \"\"\" 2层GCN\n",
    "    \n",
    "    参数说明\n",
    "    ----------\n",
    "    nfeat : 输入特征的维度\n",
    "    nhid : 隐藏神经元的数量\n",
    "    nclass : 输出神经元的数量，也即类别的数量\n",
    "    dropout : dropout中的概率\n",
    "    with_bias: 是否带有偏置项\n",
    "    \"\"\"\n",
    "\n",
    "    def __init__(self, nfeat, nhid, nclass, dropout=0.5, with_bias=True):\n",
    "        super(GCN, self).__init__()\n",
    "        self.conv1 = GCNConv(nfeat, nhid, bias=with_bias)\n",
    "        self.conv2 = GCNConv(nhid, nclass, bias=with_bias)\n",
    "        self.dropout = dropout\n",
    "        \n",
    "    def reset_parameters(self):\n",
    "        \"\"\"初始化模型参数\"\"\"\n",
    "        self.conv1.reset_parameters()\n",
    "        self.conv2.reset_parameters()\n",
    "\n",
    "    def forward(self, data):\n",
    "        \"\"\"模型前向传播\"\"\"\n",
    "        x, edge_index = data.x, data.edge_index # 取出x, edge_index\n",
    "        x = F.relu(self.conv1(x, edge_index)) \n",
    "        x = F.dropout(x, p=self.dropout, training=self.training)\n",
    "        x = self.conv2(x, edge_index)\n",
    "        return F.log_softmax(x, dim=1)"
   ]
  },
  {
   "cell_type": "code",
   "execution_count": 18,
   "metadata": {},
   "outputs": [
    {
     "name": "stdout",
     "output_type": "stream",
     "text": [
      "tensor([[-2.0794, -1.8769, -1.9576,  ..., -1.9885, -1.9202, -1.9861],\n",
      "        [-2.1015, -1.8984, -1.9962,  ..., -1.9449, -2.0177, -1.9656],\n",
      "        [-2.0151, -1.9079, -1.9787,  ..., -1.9499, -1.9824, -1.9685],\n",
      "        ...,\n",
      "        [-1.9406, -1.9482, -1.9035,  ..., -1.9936, -2.0105, -1.9388],\n",
      "        [-1.9294, -1.9585, -1.9458,  ..., -1.9624, -2.0442, -1.9079],\n",
      "        [-1.9216, -1.9546, -1.9636,  ..., -1.9528, -2.0283, -1.9018]],\n",
      "       grad_fn=<LogSoftmaxBackward>)\n",
      "torch.Size([2708, 7])\n"
     ]
    }
   ],
   "source": [
    "nclass = labels.max().item()+1\n",
    "model = GCN(nfeat=features.shape[1], nhid=16, nclass=nclass)\n",
    "output = model(data)\n",
    "print(output)\n",
    "print(output.shape)"
   ]
  },
  {
   "cell_type": "markdown",
   "metadata": {},
   "source": [
    "#### 1.2.2 详细讲解`GCNConv`内部结构"
   ]
  },
  {
   "cell_type": "markdown",
   "metadata": {},
   "source": [
    "下面这部分代码来自PyG中的[gcn_conv.py](https://github.com/pyg-team/pytorch_geometric/blob/74245f3a680c1f6fd1944623e47d9e677b43e827/torch_geometric/nn/conv/gcn_conv.py#L68)，这里做了一些修改（删除了一些不重要的变量）来让它更简洁易懂。"
   ]
  },
  {
   "cell_type": "code",
   "execution_count": null,
   "metadata": {},
   "outputs": [],
   "source": [
    "from torch_geometric.typing import Adj, OptTensor, PairTensor\n",
    "import torch\n",
    "from torch import Tensor\n",
    "from torch.nn import Parameter\n",
    "from torch_sparse import SparseTensor, matmul, fill_diag, sum as sparsesum, mul\n",
    "from torch_geometric.nn.inits import zeros\n",
    "from torch_geometric.nn.dense.linear import Linear\n",
    "from torch_geometric.nn.conv import MessagePassing\n",
    "from torch_geometric.nn.conv.gcn_conv import gcn_norm\n",
    "\n",
    "\n",
    "class GCNConv(MessagePassing):\n",
    "\n",
    "    def __init__(self, in_channels: int, out_channels: int, bias: bool = True, **kwargs):\n",
    "\n",
    "        kwargs.setdefault('aggr', 'add') # 设置aggregation方式为求和（'add'）\n",
    "        super(GCNConv, self).__init__(**kwargs)\n",
    "\n",
    "        self.in_channels = in_channels\n",
    "        self.out_channels = out_channels\n",
    "\n",
    "        self.lin = Linear(in_channels, out_channels, bias=False,\n",
    "                          weight_initializer='glorot')\n",
    "\n",
    "        if bias:\n",
    "            self.bias = Parameter(torch.Tensor(out_channels))\n",
    "        else:\n",
    "            self.register_parameter('bias', None)\n",
    "\n",
    "        self.reset_parameters()\n",
    "\n",
    "    def reset_parameters(self):\n",
    "        self.lin.reset_parameters()\n",
    "        zeros(self.bias)\n",
    "\n",
    "    def forward(self, x, edge_index, edge_weight):\n",
    "        \"\"\"前向传播过程\"\"\"\n",
    "\n",
    "        edge_index, edge_weight = gcn_norm(  \n",
    "                edge_index, edge_weight, x.size(self.node_dim)) # 对图结构进行标准化\n",
    "        x = self.lin(x) # XW\n",
    "         \n",
    "        out = self.propagate(edge_index, x=x, edge_weight=edge_weight,\n",
    "                             size=None) # self.propagate()继承自MessagePassing这个类\n",
    "        if self.bias is not None:\n",
    "            out += self.bias\n",
    "        return out\n",
    "\n",
    "    def message(self, x_j, edge_weight):\n",
    "        \"\"\"定义如何传递信息：给节点特征乘上一个权重\"\"\"\n",
    "        return x_j if edge_weight is None else edge_weight.view(-1, 1) * x_j\n",
    "\n",
    "#     def message_and_aggregate(self, adj_t: SparseTensor, x: Tensor) -> Tensor:\n",
    "#         return matmul(adj_t, x, reduce=self.aggr)"
   ]
  },
  {
   "cell_type": "markdown",
   "metadata": {},
   "source": [
    "这里有几个需要注意的地方：\n",
    "\n",
    "1. `foward()`函数中需要使用`self.propagate()`在节点之间进行信息的传递。`self.propagate()`继承自`MessagePassing`这个类。它的输入是`edge_index`, `edge_weight` 还有节点特征`x`。\n",
    "1. `self.propagate()`中调用了`message()`，`message()`函数具体定义了传递信息的过程：给节点特征乘上一个权重。\n",
    "1. 如果同学们需要设计自己的GNN模型的话，通常是改变`forward()`和`message()`函数。"
   ]
  },
  {
   "cell_type": "markdown",
   "metadata": {},
   "source": [
    "## 2. GAT"
   ]
  },
  {
   "cell_type": "markdown",
   "metadata": {},
   "source": [
    "接下来，我们介绍Graph Attention Network（GAT）。GAT和GCN的主要区别是，GAT在聚合邻居节点的信息的时候利用了注意力机制来对其进行加权。 我们用$\\alpha_{ij}$来表示节点i和节点j之间的注意力分数，那么\n",
    "\n",
    "$\\alpha_{ij} = {\\bf a}[{\\bf W}{\\bf h}_i || {\\bf W}{\\bf h}_j]$， 其中$[{\\bf W}{\\bf h}_i || {\\bf W}{\\bf h}_j]$表示对节点i和节点j的隐藏层表示的拼接；${\\bf a}$是一个网络层，用来将向量表示转换成注意力分数。\n",
    "\n",
    "这些注意力分数之后会通过softmax层进行归一化，并且上面这个式子只是其中一个attention head，实践中我们会用多个attention head得到多个$\\alpha_{ij}$。"
   ]
  },
  {
   "cell_type": "code",
   "execution_count": 20,
   "metadata": {},
   "outputs": [],
   "source": [
    "from torch_geometric.nn import GATConv\n",
    "class GAT(nn.Module):\n",
    "    \"\"\" 2层GAT.\n",
    "    \n",
    "    参数说明\n",
    "    ----------\n",
    "    nfeat : 输入特征的维度\n",
    "    nhid : 隐藏神经元的数量\n",
    "    nclass : 输出神经元的数量，也即类别的数量\n",
    "    heads: 注意力机制中的head数量\n",
    "    output_heads: 输出曾的head数量\n",
    "    dropout : dropout中的概率\n",
    "    with_bias: 是否带有偏置项\n",
    "    \"\"\"\n",
    "\n",
    "    def __init__(self, nfeat, nhid, nclass, heads=8, output_heads=1, dropout=0.5, with_bias=True):\n",
    "\n",
    "        super(GAT, self).__init__()\n",
    "\n",
    "        self.conv1 = GATConv(\n",
    "            nfeat,\n",
    "            nhid,\n",
    "            heads=heads,\n",
    "            dropout=dropout,\n",
    "            bias=with_bias)\n",
    "\n",
    "        self.conv2 = GATConv(\n",
    "            nhid * heads,\n",
    "            nclass,\n",
    "            heads=output_heads,\n",
    "            concat=False,\n",
    "            dropout=dropout,\n",
    "            bias=with_bias)\n",
    "\n",
    "        self.dropout = dropout\n",
    "\n",
    "    def forward(self, data):\n",
    "        x, edge_index = data.x, data.edge_index\n",
    "        x = F.dropout(x, p=self.dropout, training=self.training)\n",
    "        x = F.elu(self.conv1(x, edge_index))\n",
    "        x = F.dropout(x, p=self.dropout, training=self.training)\n",
    "        x = self.conv2(x, edge_index)\n",
    "        return F.log_softmax(x, dim=1)\n",
    "\n",
    "    def initialize(self):\n",
    "        \"\"\"初始化GAT的参数.\n",
    "        \"\"\"\n",
    "        self.conv1.reset_parameters()\n",
    "        self.conv2.reset_parameters()"
   ]
  },
  {
   "cell_type": "code",
   "execution_count": 26,
   "metadata": {},
   "outputs": [
    {
     "name": "stdout",
     "output_type": "stream",
     "text": [
      "tensor([[-2.0089, -1.9391, -1.7778,  ..., -2.0575, -1.9461, -2.0833],\n",
      "        [-1.8300, -1.7169, -2.6667,  ..., -2.4140, -2.1355, -1.9037],\n",
      "        [-2.1941, -1.9759, -1.8921,  ..., -1.9943, -2.0023, -1.8859],\n",
      "        ...,\n",
      "        [-1.3637, -2.7322, -1.4418,  ..., -1.8735, -2.4310, -2.0300],\n",
      "        [-1.8673, -1.8732, -2.0127,  ..., -1.9601, -1.9506, -2.0963],\n",
      "        [-1.9414, -1.7817, -2.1745,  ..., -1.9223, -1.9619, -1.9651]],\n",
      "       grad_fn=<LogSoftmaxBackward>)\n",
      "torch.Size([2708, 7])\n"
     ]
    }
   ],
   "source": [
    "gat = GAT(nfeat=features.shape[1],\n",
    "      nhid=8, heads=8,\n",
    "      nclass=nclass)\n",
    "output = gat(data)\n",
    "print(output)\n",
    "print(output.shape)"
   ]
  },
  {
   "cell_type": "markdown",
   "metadata": {},
   "source": [
    "关于`GATConv`的具体实现，参见[gat_conv.py](https://github.com/pyg-team/pytorch_geometric/blob/74245f3a680c1f6fd1944623e47d9e677b43e827/torch_geometric/nn/conv/gat_conv.py#L17)。学有余力的同学可以尝试理解下其中`forward()`和`message()`函数的实现。\n",
    "\n",
    "简单来讲，\n",
    "1. `GATConv`里的`forward()`函数实现了注意力分数（attention score），这个分数就是`alpha`变量，它是每个相连接的节点对的拼接后的特征通过一个线性层得到的。`alpha`之后会经过一个softmax层进行归一化。\n",
    "2. `message()`函数中定义了节点特征是怎么和注意力分数`alpha` 结合起来的：先对`alpha`进行dropout，然后再将节点特征和`alpha`想乘。"
   ]
  },
  {
   "cell_type": "markdown",
   "metadata": {},
   "source": [
    "## 3. 利用GCN完成节点分类任务"
   ]
  },
  {
   "cell_type": "markdown",
   "metadata": {},
   "source": [
    "关于节点分类任务，其实我们在上一次课（图嵌入）的时候已经有了初步的接触：我们用DeepWalk对Cora数据集上的节点进行了分类。在这里，我们同样以Cora数据集为例，来展示如何进行节点分类。"
   ]
  },
  {
   "cell_type": "code",
   "execution_count": 66,
   "metadata": {},
   "outputs": [],
   "source": [
    "def train(model, data, lr=0.01, weight_decay=5e-4, epochs=200):\n",
    "    optimizer = optim.Adam(model.parameters(), lr=lr, weight_decay=weight_decay)\n",
    "    labels = data.y\n",
    "    train_mask = data.train_mask\n",
    "    best_loss_val = 100\n",
    "\n",
    "    for i in range(epochs):\n",
    "        model.train()\n",
    "        optimizer.zero_grad()\n",
    "        output = model(data)\n",
    "\n",
    "        loss = F.nll_loss(output[train_mask], labels[train_mask]) # 用训练集中的节点来计算损失函数\n",
    "        loss.backward()\n",
    "        optimizer.step()\n",
    "\n",
    "        if i % 10 == 0:\n",
    "            print('Epoch {}, training loss: {}'.format(i, loss.item()))\n",
    "\n",
    "@torch.no_grad()\n",
    "def test(model, data):\n",
    "    \"\"\"Evaluate GAT performance on test set.\n",
    "\n",
    "    \"\"\"\n",
    "    model.eval()\n",
    "    test_mask = data.test_mask\n",
    "    labels = data.y \n",
    "    output = model(data) # 得到模型输出\n",
    "    loss_test = F.nll_loss(output[test_mask], labels[test_mask])\n",
    "    preds = output[test_mask].argmax(1) # 得到预测值\n",
    "    acc_test = preds.eq(labels[test_mask]).cpu().numpy().mean() # 得到准确率\n",
    "    print(\"Test set results:\",\n",
    "          \"loss= {:.4f}\".format(loss_test.item()),\n",
    "          \"accuracy= {:.4f}\".format(acc_test))\n",
    "    return preds, output, acc_test.item()"
   ]
  },
  {
   "cell_type": "code",
   "execution_count": 44,
   "metadata": {},
   "outputs": [
    {
     "name": "stdout",
     "output_type": "stream",
     "text": [
      "Epoch 0, training loss: 1.9441615343093872\n",
      "Epoch 10, training loss: 0.7765031456947327\n",
      "Epoch 20, training loss: 0.21071229875087738\n",
      "Epoch 30, training loss: 0.12184865027666092\n",
      "Epoch 40, training loss: 0.06967499852180481\n",
      "Epoch 50, training loss: 0.038351647555828094\n",
      "Epoch 60, training loss: 0.04270881786942482\n",
      "Epoch 70, training loss: 0.046000976115465164\n",
      "Epoch 80, training loss: 0.03642742708325386\n",
      "Epoch 90, training loss: 0.05175086855888367\n"
     ]
    }
   ],
   "source": [
    "model = GCN(nfeat=features.shape[1], nhid=16, nclass=nclass)\n",
    "# 将模型放到gpu/cpu上，默认是cpu\n",
    "device = 'cpu' # device ='cuda'\n",
    "model = model.to(device)\n",
    "data = data.to(device)\n",
    "train(model, data, epochs=100)"
   ]
  },
  {
   "cell_type": "code",
   "execution_count": 67,
   "metadata": {},
   "outputs": [
    {
     "name": "stdout",
     "output_type": "stream",
     "text": [
      "Test set results: loss= 0.6423 accuracy= 0.7960\n"
     ]
    }
   ],
   "source": [
    "preds, output, acc = test(model, data)"
   ]
  },
  {
   "cell_type": "markdown",
   "metadata": {},
   "source": [
    "接下来我们使用tsne对得到的输出进行降维并可视化。"
   ]
  },
  {
   "cell_type": "code",
   "execution_count": 70,
   "metadata": {},
   "outputs": [
    {
     "data": {
      "image/png": "[encoded data removed]",
      "text/plain": [
       "<Figure size 600x600 with 1 Axes>"
      ]
     },
     "metadata": {},
     "output_type": "display_data"
    }
   ],
   "source": [
    "from bhtsne import tsne\n",
    "import matplotlib.pyplot as plt\n",
    "def plot_points(colors, embedding):\n",
    "    z = tsne(embedding.astype('float64'))\n",
    "    y = data.y.numpy()\n",
    "\n",
    "    plt.figure(figsize=(6, 6))\n",
    "    for i in range(dataset.num_classes):\n",
    "        plt.scatter(z[y == i, 0], z[y == i, 1], s=20, color=colors[i])\n",
    "    plt.axis('off')\n",
    "    plt.show()\n",
    "\n",
    "colors = [\n",
    "    '#ffc0cb', '#bada55', '#008080', '#420420', '#7fe5f0', '#065535',\n",
    "    '#ffd700'\n",
    "]\n",
    "plot_points(colors, output.cpu().numpy())"
   ]
  },
  {
   "cell_type": "markdown",
   "metadata": {},
   "source": [
    "不难看出，得到的节点嵌入的分离度非常高，大家可以将这幅图和第二次实践课上的deepwalk得到的图进行对比。"
   ]
  },
  {
   "cell_type": "markdown",
   "metadata": {},
   "source": [
    "## 4. 利用GCN完成图分类任务"
   ]
  },
  {
   "cell_type": "markdown",
   "metadata": {},
   "source": [
    "在这一节中，我们将使用GCN完成图分类任务。"
   ]
  },
  {
   "cell_type": "markdown",
   "metadata": {},
   "source": [
    "### 4.1 图分类数据集介绍"
   ]
  },
  {
   "cell_type": "markdown",
   "metadata": {},
   "source": [
    "图分类任务中，每张图都对应了一个标签，节点是不对应标签的。本小节我们以ENZYMES数据集为例来介绍图分类任务。"
   ]
  },
  {
   "cell_type": "code",
   "execution_count": 80,
   "metadata": {},
   "outputs": [],
   "source": [
    "from torch_geometric.data import DataLoader\n",
    "from torch_geometric.datasets import TUDataset\n",
    "dataset = TUDataset(root='./data/ENZYMES', name='ENZYMES', use_node_attr=True)"
   ]
  },
  {
   "cell_type": "code",
   "execution_count": 84,
   "metadata": {
    "scrolled": false
   },
   "outputs": [
    {
     "name": "stdout",
     "output_type": "stream",
     "text": [
      "ENZYMES(600)\n",
      "600\n"
     ]
    }
   ],
   "source": [
    "print(dataset)\n",
    "print(len(dataset))"
   ]
  },
  {
   "cell_type": "markdown",
   "metadata": {},
   "source": [
    "我们可以看到ENZYMES数据集一共有600张图。下面让我们取出第一张图来看看："
   ]
  },
  {
   "cell_type": "code",
   "execution_count": 85,
   "metadata": {
    "scrolled": true
   },
   "outputs": [
    {
     "data": {
      "text/plain": [
       "Data(edge_index=[2, 168], x=[37, 21], y=[1])"
      ]
     },
     "execution_count": 85,
     "metadata": {},
     "output_type": "execute_result"
    }
   ],
   "source": [
    "dataset[0]"
   ]
  },
  {
   "cell_type": "markdown",
   "metadata": {},
   "source": [
    "这张图中共有168条边，37个节点，以及一个标签。这个标签代表的是这个图的标签，因为该数据集属于图分类数据集。"
   ]
  },
  {
   "cell_type": "markdown",
   "metadata": {},
   "source": [
    "### 4.2 图分类任务实践"
   ]
  },
  {
   "cell_type": "markdown",
   "metadata": {},
   "source": [
    "对于图分类任务，GCN需要以一张图为输入，并输出对应的预测标签。通常来讲，GCN会输出所有节点的表示（或嵌入），所以我们在设计图分类的GCN的时候，需要一个池化层（pooling）和一个预测层（线性层）。"
   ]
  },
  {
   "cell_type": "code",
   "execution_count": 118,
   "metadata": {},
   "outputs": [],
   "source": [
    "from torch_geometric.nn import global_mean_pool\n",
    "\n",
    "class GCN(torch.nn.Module):\n",
    "    \"\"\"3层GCN+1池化层+1层线性层\"\"\"\n",
    "\n",
    "    def __init__(self, nfeat, nhid, nclass, dropout=0.2):\n",
    "        super(GCN, self).__init__()\n",
    "        \n",
    "        self.gc1 = GCNConv(nfeat, nhid)\n",
    "        self.gc2 = GCNConv(nhid, nhid)\n",
    "        self.gc3 = GCNConv(nhid, nhid)\n",
    "        self.lin = nn.Linear(nhid, nclass) # 用于输出图的预测标签\n",
    "        self.dropout = dropout\n",
    "\n",
    "    def forward(self, data):\n",
    "        x, edge_index = data.x, data.edge_index\n",
    "        x = F.relu(self.gc1(x, edge_index))\n",
    "        x = F.dropout(x, p=self.dropout, training=self.training)\n",
    "        x = F.relu(self.gc2(x, edge_index))\n",
    "        x = F.dropout(x, p=self.dropout, training=self.training) \n",
    "        x = self.gc3(x, edge_index)\n",
    "        x = global_mean_pool(x, batch=data.batch) # 池化层，对所有节点嵌入去一个均值作为图的潜入\n",
    "        x = self.lin(x) \n",
    "        return F.log_softmax(x, dim=1)"
   ]
  },
  {
   "cell_type": "code",
   "execution_count": 109,
   "metadata": {},
   "outputs": [],
   "source": [
    "from torch_geometric.data import DataLoader\n",
    "from torch_geometric.datasets import TUDataset\n",
    "\n",
    "dataset = TUDataset(root='./data/ENZYMES', name='ENZYMES', use_node_attr=True)\n",
    "dataset = dataset.shuffle()\n",
    "\n",
    "train_ratio = 0.8\n",
    "test_ratio = 0.2\n",
    "train_dataset = dataset[: int(train_ratio*len(dataset))]\n",
    "test_dataset = dataset[-int(test_ratio*len(dataset)):]\n",
    "\n",
    "# 创建训练集和测试集的dataloader\n",
    "train_loader = DataLoader(train_dataset, batch_size=64, shuffle=True)\n",
    "test_loader = DataLoader(test_dataset, batch_size=64)"
   ]
  },
  {
   "cell_type": "code",
   "execution_count": 110,
   "metadata": {},
   "outputs": [],
   "source": [
    "nfeat = dataset.num_node_features\n",
    "nclass = dataset.num_classes\n",
    "nhid = 64\n",
    "device = 'cpu'\n",
    "# device = ‘cuda’ # 如果有CUDA的话\n",
    "model = GCN(nfeat, nhid, nclass).to(device)"
   ]
  },
  {
   "cell_type": "code",
   "execution_count": 111,
   "metadata": {},
   "outputs": [],
   "source": [
    "def train(model, lr=0.001, epochs=1000):\n",
    "    \"\"\"训练给定网络\"\"\"\n",
    "    optimizer = torch.optim.Adam(model.parameters(), lr=lr)\n",
    "    for epoch in range(epochs):\n",
    "        model.train()\n",
    "        loss_all = 0\n",
    "        for data in (train_loader): \n",
    "            data = data.to(device)\n",
    "            optimizer.zero_grad()\n",
    "            y_model = model(data)\n",
    "            loss = F.nll_loss(y_model, data.y)\n",
    "            loss.backward()\n",
    "            loss_all += loss.item() * data.num_graphs\n",
    "            optimizer.step()\n",
    "        loss_train = loss_all / len(train_loader.dataset) \n",
    "        if epoch % 100 == 0:\n",
    "            print('Epoch: {:03d}, Loss: {:.7f}'.format(epoch, loss_train))\n",
    "\n",
    "@torch.no_grad()            \n",
    "def test(model, loader):\n",
    "    \"\"\"测试给定网络\"\"\"\n",
    "    model.eval()\n",
    "    correct = 0\n",
    "    for data in loader:\n",
    "        data = data.to(device)\n",
    "\n",
    "        _, pred = model(data).max(dim=1)\n",
    "        correct += float(pred.eq(data.y).sum().item())\n",
    "    return correct / len(loader.dataset)"
   ]
  },
  {
   "cell_type": "code",
   "execution_count": 114,
   "metadata": {
    "scrolled": true
   },
   "outputs": [
    {
     "name": "stdout",
     "output_type": "stream",
     "text": [
      "Epoch: 000, Loss: 0.7006554\n",
      "Epoch: 100, Loss: 0.5054451\n",
      "Epoch: 200, Loss: 0.3500624\n",
      "Epoch: 300, Loss: 0.3367341\n",
      "Epoch: 400, Loss: 0.2641970\n"
     ]
    }
   ],
   "source": [
    "train(model, epochs=1000)"
   ]
  },
  {
   "cell_type": "code",
   "execution_count": 115,
   "metadata": {
    "scrolled": true
   },
   "outputs": [
    {
     "data": {
      "text/plain": [
       "0.6583333333333333"
      ]
     },
     "execution_count": 115,
     "metadata": {},
     "output_type": "execute_result"
    }
   ],
   "source": [
    "test(model, test_loader)"
   ]
  }
 ],
 "metadata": {
  "kernelspec": {
   "display_name": "gnn",
   "language": "python",
   "name": "gnn"
  },
  "language_info": {
   "codemirror_mode": {
    "name": "ipython",
    "version": 3
   },
   "file_extension": ".py",
   "mimetype": "text/x-python",
   "name": "python",
   "nbconvert_exporter": "python",
   "pygments_lexer": "ipython3",
   "version": "3.8.11"
  }
 },
 "nbformat": 4,
 "nbformat_minor": 4
}
