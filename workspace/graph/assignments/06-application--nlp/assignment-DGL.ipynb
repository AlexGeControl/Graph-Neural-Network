{
 "cells": [
  {
   "cell_type": "markdown",
   "metadata": {},
   "source": [
    "# 第六次作业"
   ]
  },
  {
   "cell_type": "markdown",
   "metadata": {},
   "source": [
    "在本次作业中，我们利用R-GCN来完整实体分类任务。实体分类和节点分类任务相似，都是对图里的节点进行分类。"
   ]
  },
  {
   "cell_type": "code",
   "execution_count": 1,
   "metadata": {},
   "outputs": [
    {
     "name": "stderr",
     "output_type": "stream",
     "text": [
      "Using backend: pytorch\n"
     ]
    },
    {
     "name": "stdout",
     "output_type": "stream",
     "text": [
      "Done loading data from cached files.\n"
     ]
    }
   ],
   "source": [
    "import torch\n",
    "import torch.nn.functional as F\n",
    "from dgl.data import AIFBDataset\n",
    "\n",
    "dataset = AIFBDataset()"
   ]
  },
  {
   "cell_type": "code",
   "execution_count": 2,
   "metadata": {},
   "outputs": [
    {
     "name": "stdout",
     "output_type": "stream",
     "text": [
      "需要分类的节点: Personen\n",
      "节点分类的数量: 4\n",
      "节点标签的数量: 237\n"
     ]
    },
    {
     "name": "stderr",
     "output_type": "stream",
     "text": [
      "/Users/jamezhan/anaconda3/envs/dgl/lib/python3.6/site-packages/dgl/data/utils.py:285: UserWarning: Property dataset.labels will be deprecated, please use train_mask = g.ndata['labels'] instead.\n",
      "  warnings.warn('Property {} will be deprecated, please use {} instead.'.format(old, new))\n"
     ]
    }
   ],
   "source": [
    "print('需要分类的节点: {}'.format(dataset.predict_category))\n",
    "print('节点分类的数量: {}'.format(dataset.num_classes))\n",
    "print('节点标签的数量: {}'.format(len(dataset.labels)))"
   ]
  },
  {
   "cell_type": "code",
   "execution_count": 3,
   "metadata": {
    "scrolled": true
   },
   "outputs": [
    {
     "data": {
      "text/plain": [
       "Graph(num_nodes={'Forschungsgebiete': 146, 'Forschungsgruppen': 5, 'Kooperationen': 28, 'Personen': 237, 'Projekte': 78, 'Publikationen': 1318, '_Literal': 5450},\n",
       "      num_edges={('Forschungsgebiete', 'ontology#dealtWithIn', 'Projekte'): 357, ('Forschungsgebiete', 'ontology#isWorkedOnBy', 'Personen'): 571, ('Forschungsgebiete', 'ontology#name', '_Literal'): 146, ('Forschungsgebiete', 'rdftype', '_Literal'): 129, ('Forschungsgebiete', 'rev-ontology#isAbout', 'Projekte'): 357, ('Forschungsgebiete', 'rev-ontology#isAbout', 'Publikationen'): 2120, ('Forschungsgruppen', 'ontology#carriesOut', 'Projekte'): 79, ('Forschungsgruppen', 'ontology#head', 'Personen'): 5, ('Forschungsgruppen', 'ontology#homepage', '_Literal'): 5, ('Forschungsgruppen', 'ontology#member', 'Personen'): 74, ('Forschungsgruppen', 'ontology#name', '_Literal'): 5, ('Forschungsgruppen', 'ontology#publishes', 'Publikationen'): 1217, ('Forschungsgruppen', 'rev-ontology#carriedOutBy', 'Projekte'): 79, ('Kooperationen', 'ontology#finances', 'Projekte'): 68, ('Kooperationen', 'ontology#name', '_Literal'): 28, ('Kooperationen', 'rev-ontology#financedBy', 'Projekte'): 65, ('Personen', 'ontology#fax', '_Literal'): 227, ('Personen', 'ontology#homepage', '_Literal'): 78, ('Personen', 'ontology#name', '_Literal'): 227, ('Personen', 'ontology#phone', '_Literal'): 227, ('Personen', 'ontology#photo', '_Literal'): 148, ('Personen', 'ontology#publication', 'Publikationen'): 2609, ('Personen', 'ontology#worksAtProject', 'Projekte'): 200, ('Personen', 'rev-ontology#author', 'Publikationen'): 2550, ('Personen', 'rev-ontology#editor', 'Publikationen'): 81, ('Personen', 'rev-ontology#head', 'Forschungsgruppen'): 5, ('Personen', 'rev-ontology#isWorkedOnBy', 'Forschungsgebiete'): 571, ('Personen', 'rev-ontology#member', 'Forschungsgruppen'): 74, ('Personen', 'rev-ontology#member', 'Projekte'): 265, ('Projekte', 'ontology#carriedOutBy', 'Forschungsgruppen'): 79, ('Projekte', 'ontology#financedBy', 'Kooperationen'): 65, ('Projekte', 'ontology#homepage', '_Literal'): 57, ('Projekte', 'ontology#isAbout', 'Forschungsgebiete'): 357, ('Projekte', 'ontology#member', 'Personen'): 265, ('Projekte', 'ontology#name', '_Literal'): 75, ('Projekte', 'ontology#projectInfo', 'Publikationen'): 952, ('Projekte', 'rev-ontology#carriesOut', 'Forschungsgruppen'): 79, ('Projekte', 'rev-ontology#dealtWithIn', 'Forschungsgebiete'): 357, ('Projekte', 'rev-ontology#finances', 'Kooperationen'): 68, ('Projekte', 'rev-ontology#hasProject', 'Publikationen'): 952, ('Projekte', 'rev-ontology#worksAtProject', 'Personen'): 200, ('Publikationen', 'ontology#abstract', '_Literal'): 534, ('Publikationen', 'ontology#address', '_Literal'): 202, ('Publikationen', 'ontology#author', 'Personen'): 2550, ('Publikationen', 'ontology#author', 'Publikationen'): 1436, ('Publikationen', 'ontology#booktitle', '_Literal'): 765, ('Publikationen', 'ontology#chapter', '_Literal'): 15, ('Publikationen', 'ontology#edition', '_Literal'): 12, ('Publikationen', 'ontology#editor', 'Personen'): 81, ('Publikationen', 'ontology#editor', 'Publikationen'): 109, ('Publikationen', 'ontology#hasProject', 'Projekte'): 952, ('Publikationen', 'ontology#homepage', '_Literal'): 99, ('Publikationen', 'ontology#howpublished', '_Literal'): 49, ('Publikationen', 'ontology#isAbout', 'Forschungsgebiete'): 2120, ('Publikationen', 'ontology#isbn', '_Literal'): 16, ('Publikationen', 'ontology#journal', '_Literal'): 161, ('Publikationen', 'ontology#month', '_Literal'): 759, ('Publikationen', 'ontology#name', '_Literal'): 821, ('Publikationen', 'ontology#note', '_Literal'): 114, ('Publikationen', 'ontology#number', '_Literal'): 145, ('Publikationen', 'ontology#pages', '_Literal'): 548, ('Publikationen', 'ontology#publication', 'Publikationen'): 1554, ('Publikationen', 'ontology#series', '_Literal'): 298, ('Publikationen', 'ontology#title', '_Literal'): 1227, ('Publikationen', 'ontology#type', '_Literal'): 50, ('Publikationen', 'ontology#volume', '_Literal'): 311, ('Publikationen', 'ontology#year', '_Literal'): 1227, ('Publikationen', 'rev-ontology#author', 'Publikationen'): 1436, ('Publikationen', 'rev-ontology#editor', 'Publikationen'): 109, ('Publikationen', 'rev-ontology#projectInfo', 'Projekte'): 952, ('Publikationen', 'rev-ontology#publication', 'Personen'): 2609, ('Publikationen', 'rev-ontology#publication', 'Publikationen'): 1554, ('Publikationen', 'rev-ontology#publishes', 'Forschungsgruppen'): 1217, ('_Literal', 'rev-ontology#abstract', 'Publikationen'): 534, ('_Literal', 'rev-ontology#address', 'Publikationen'): 202, ('_Literal', 'rev-ontology#booktitle', 'Publikationen'): 765, ('_Literal', 'rev-ontology#chapter', 'Publikationen'): 15, ('_Literal', 'rev-ontology#edition', 'Publikationen'): 12, ('_Literal', 'rev-ontology#fax', 'Personen'): 227, ('_Literal', 'rev-ontology#homepage', 'Forschungsgruppen'): 5, ('_Literal', 'rev-ontology#homepage', 'Personen'): 78, ('_Literal', 'rev-ontology#homepage', 'Projekte'): 57, ('_Literal', 'rev-ontology#homepage', 'Publikationen'): 99, ('_Literal', 'rev-ontology#howpublished', 'Publikationen'): 49, ('_Literal', 'rev-ontology#isbn', 'Publikationen'): 16, ('_Literal', 'rev-ontology#journal', 'Publikationen'): 161, ('_Literal', 'rev-ontology#month', 'Publikationen'): 759, ('_Literal', 'rev-ontology#name', 'Forschungsgebiete'): 146, ('_Literal', 'rev-ontology#name', 'Forschungsgruppen'): 5, ('_Literal', 'rev-ontology#name', 'Kooperationen'): 28, ('_Literal', 'rev-ontology#name', 'Personen'): 227, ('_Literal', 'rev-ontology#name', 'Projekte'): 75, ('_Literal', 'rev-ontology#name', 'Publikationen'): 821, ('_Literal', 'rev-ontology#note', 'Publikationen'): 114, ('_Literal', 'rev-ontology#number', 'Publikationen'): 145, ('_Literal', 'rev-ontology#pages', 'Publikationen'): 548, ('_Literal', 'rev-ontology#phone', 'Personen'): 227, ('_Literal', 'rev-ontology#photo', 'Personen'): 148, ('_Literal', 'rev-ontology#series', 'Publikationen'): 298, ('_Literal', 'rev-ontology#title', 'Publikationen'): 1227, ('_Literal', 'rev-ontology#type', 'Publikationen'): 50, ('_Literal', 'rev-ontology#volume', 'Publikationen'): 311, ('_Literal', 'rev-ontology#year', 'Publikationen'): 1227, ('_Literal', 'rev-rdftype', 'Forschungsgebiete'): 129},\n",
       "      metagraph=[('Forschungsgebiete', 'Projekte', 'ontology#dealtWithIn'), ('Forschungsgebiete', 'Projekte', 'rev-ontology#isAbout'), ('Forschungsgebiete', 'Personen', 'ontology#isWorkedOnBy'), ('Forschungsgebiete', '_Literal', 'ontology#name'), ('Forschungsgebiete', '_Literal', 'rdftype'), ('Forschungsgebiete', 'Publikationen', 'rev-ontology#isAbout'), ('Projekte', 'Forschungsgruppen', 'ontology#carriedOutBy'), ('Projekte', 'Forschungsgruppen', 'rev-ontology#carriesOut'), ('Projekte', 'Kooperationen', 'ontology#financedBy'), ('Projekte', 'Kooperationen', 'rev-ontology#finances'), ('Projekte', '_Literal', 'ontology#homepage'), ('Projekte', '_Literal', 'ontology#name'), ('Projekte', 'Forschungsgebiete', 'ontology#isAbout'), ('Projekte', 'Forschungsgebiete', 'rev-ontology#dealtWithIn'), ('Projekte', 'Personen', 'ontology#member'), ('Projekte', 'Personen', 'rev-ontology#worksAtProject'), ('Projekte', 'Publikationen', 'ontology#projectInfo'), ('Projekte', 'Publikationen', 'rev-ontology#hasProject'), ('Personen', '_Literal', 'ontology#fax'), ('Personen', '_Literal', 'ontology#homepage'), ('Personen', '_Literal', 'ontology#name'), ('Personen', '_Literal', 'ontology#phone'), ('Personen', '_Literal', 'ontology#photo'), ('Personen', 'Publikationen', 'ontology#publication'), ('Personen', 'Publikationen', 'rev-ontology#author'), ('Personen', 'Publikationen', 'rev-ontology#editor'), ('Personen', 'Projekte', 'ontology#worksAtProject'), ('Personen', 'Projekte', 'rev-ontology#member'), ('Personen', 'Forschungsgruppen', 'rev-ontology#head'), ('Personen', 'Forschungsgruppen', 'rev-ontology#member'), ('Personen', 'Forschungsgebiete', 'rev-ontology#isWorkedOnBy'), ('_Literal', 'Publikationen', 'rev-ontology#abstract'), ('_Literal', 'Publikationen', 'rev-ontology#address'), ('_Literal', 'Publikationen', 'rev-ontology#booktitle'), ('_Literal', 'Publikationen', 'rev-ontology#chapter'), ('_Literal', 'Publikationen', 'rev-ontology#edition'), ('_Literal', 'Publikationen', 'rev-ontology#homepage'), ('_Literal', 'Publikationen', 'rev-ontology#howpublished'), ('_Literal', 'Publikationen', 'rev-ontology#isbn'), ('_Literal', 'Publikationen', 'rev-ontology#journal'), ('_Literal', 'Publikationen', 'rev-ontology#month'), ('_Literal', 'Publikationen', 'rev-ontology#name'), ('_Literal', 'Publikationen', 'rev-ontology#note'), ('_Literal', 'Publikationen', 'rev-ontology#number'), ('_Literal', 'Publikationen', 'rev-ontology#pages'), ('_Literal', 'Publikationen', 'rev-ontology#series'), ('_Literal', 'Publikationen', 'rev-ontology#title'), ('_Literal', 'Publikationen', 'rev-ontology#type'), ('_Literal', 'Publikationen', 'rev-ontology#volume'), ('_Literal', 'Publikationen', 'rev-ontology#year'), ('_Literal', 'Personen', 'rev-ontology#fax'), ('_Literal', 'Personen', 'rev-ontology#homepage'), ('_Literal', 'Personen', 'rev-ontology#name'), ('_Literal', 'Personen', 'rev-ontology#phone'), ('_Literal', 'Personen', 'rev-ontology#photo'), ('_Literal', 'Forschungsgruppen', 'rev-ontology#homepage'), ('_Literal', 'Forschungsgruppen', 'rev-ontology#name'), ('_Literal', 'Projekte', 'rev-ontology#homepage'), ('_Literal', 'Projekte', 'rev-ontology#name'), ('_Literal', 'Forschungsgebiete', 'rev-ontology#name'), ('_Literal', 'Forschungsgebiete', 'rev-rdftype'), ('_Literal', 'Kooperationen', 'rev-ontology#name'), ('Publikationen', '_Literal', 'ontology#abstract'), ('Publikationen', '_Literal', 'ontology#address'), ('Publikationen', '_Literal', 'ontology#booktitle'), ('Publikationen', '_Literal', 'ontology#chapter'), ('Publikationen', '_Literal', 'ontology#edition'), ('Publikationen', '_Literal', 'ontology#homepage'), ('Publikationen', '_Literal', 'ontology#howpublished'), ('Publikationen', '_Literal', 'ontology#isbn'), ('Publikationen', '_Literal', 'ontology#journal'), ('Publikationen', '_Literal', 'ontology#month'), ('Publikationen', '_Literal', 'ontology#name'), ('Publikationen', '_Literal', 'ontology#note'), ('Publikationen', '_Literal', 'ontology#number'), ('Publikationen', '_Literal', 'ontology#pages'), ('Publikationen', '_Literal', 'ontology#series'), ('Publikationen', '_Literal', 'ontology#title'), ('Publikationen', '_Literal', 'ontology#type'), ('Publikationen', '_Literal', 'ontology#volume'), ('Publikationen', '_Literal', 'ontology#year'), ('Publikationen', 'Personen', 'ontology#author'), ('Publikationen', 'Personen', 'ontology#editor'), ('Publikationen', 'Personen', 'rev-ontology#publication'), ('Publikationen', 'Publikationen', 'ontology#author'), ('Publikationen', 'Publikationen', 'ontology#editor'), ('Publikationen', 'Publikationen', 'ontology#publication'), ('Publikationen', 'Publikationen', 'rev-ontology#author'), ('Publikationen', 'Publikationen', 'rev-ontology#editor'), ('Publikationen', 'Publikationen', 'rev-ontology#publication'), ('Publikationen', 'Projekte', 'ontology#hasProject'), ('Publikationen', 'Projekte', 'rev-ontology#projectInfo'), ('Publikationen', 'Forschungsgebiete', 'ontology#isAbout'), ('Publikationen', 'Forschungsgruppen', 'rev-ontology#publishes'), ('Forschungsgruppen', 'Projekte', 'ontology#carriesOut'), ('Forschungsgruppen', 'Projekte', 'rev-ontology#carriedOutBy'), ('Forschungsgruppen', 'Personen', 'ontology#head'), ('Forschungsgruppen', 'Personen', 'ontology#member'), ('Forschungsgruppen', '_Literal', 'ontology#homepage'), ('Forschungsgruppen', '_Literal', 'ontology#name'), ('Forschungsgruppen', 'Publikationen', 'ontology#publishes'), ('Kooperationen', 'Projekte', 'ontology#finances'), ('Kooperationen', 'Projekte', 'rev-ontology#financedBy'), ('Kooperationen', '_Literal', 'ontology#name')])"
      ]
     },
     "execution_count": 3,
     "metadata": {},
     "output_type": "execute_result"
    }
   ],
   "source": [
    "graph = dataset[0]\n",
    "graph"
   ]
  },
  {
   "cell_type": "code",
   "execution_count": 4,
   "metadata": {},
   "outputs": [
    {
     "data": {
      "text/plain": [
       "(7262, 48810)"
      ]
     },
     "execution_count": 4,
     "metadata": {},
     "output_type": "execute_result"
    }
   ],
   "source": [
    "graph.num_nodes(), graph.num_edges()"
   ]
  },
  {
   "cell_type": "code",
   "execution_count": 5,
   "metadata": {},
   "outputs": [
    {
     "name": "stdout",
     "output_type": "stream",
     "text": [
      "tensor([ 1, -1, -1,  2, -1, -1,  0,  1, -1, -1]) 140 36\n"
     ]
    },
    {
     "name": "stderr",
     "output_type": "stream",
     "text": [
      "/Users/jamezhan/anaconda3/envs/dgl/lib/python3.6/site-packages/ipykernel_launcher.py:7: UserWarning: indexing with dtype torch.uint8 is now deprecated, please use a dtype torch.bool instead. (Triggered internally at  ../aten/src/ATen/native/IndexingUtils.h:25.)\n",
      "  import sys\n"
     ]
    }
   ],
   "source": [
    "category = dataset.predict_category\n",
    "num_classes = dataset.num_classes\n",
    "\n",
    "train_mask = graph.nodes[category].data['train_mask']\n",
    "test_mask = graph.nodes[category].data['test_mask']\n",
    "labels = graph.nodes[category].data['labels']\n",
    "print(labels[:10], labels[train_mask].shape[0], labels[test_mask].shape[0])"
   ]
  },
  {
   "cell_type": "markdown",
   "metadata": {},
   "source": [
    "我们可以看到在DGL的AIFB数据集中，有48810条边，90种关系，7262个节点。其中有140个节点是训练集中的节点，36个节点是测试集中的节点。"
   ]
  },
  {
   "cell_type": "code",
   "execution_count": 6,
   "metadata": {},
   "outputs": [],
   "source": [
    "num_nodes_dict = {node_type: graph.num_nodes(node_type) for node_type in graph.ntypes}\n",
    "relations = graph.canonical_etypes"
   ]
  },
  {
   "cell_type": "markdown",
   "metadata": {},
   "source": [
    "## 代码填空\n",
    "完成空缺的代码部分，完成实体分类任务。"
   ]
  },
  {
   "cell_type": "code",
   "execution_count": 7,
   "metadata": {},
   "outputs": [],
   "source": [
    "# 大家可以参考课程实践里的代码，自己写RGCNConv.\n",
    "\n",
    "import torch.nn as nn\n",
    "import dgl.function as fn\n",
    "from torch.nn import Parameter, ParameterDict\n",
    "\n",
    "\n",
    "class RGCN(torch.nn.Module):\n",
    "    def __init__(self, num_nodes_dict, hidden_channels, relations):\n",
    "        super().__init__()\n",
    "        \"\"\"设置模型参数\"\"\"\n",
    "        ###################\n",
    "        #### 代码填空 ######\n",
    "        ###################\n",
    "\n",
    "    def reset_parameters(self):\n",
    "        \"\"\"初始化模型参数\"\"\"\n",
    "        ###################\n",
    "        #### 代码填空 ######\n",
    "        ###################    \n",
    "        \n",
    "    def forward(self, g):\n",
    "        \"\"\"前向传播\"\"\"\n",
    "        ###################\n",
    "        #### 代码填空 ######\n",
    "        ###################\n",
    "        return h\n",
    "    \n",
    "class RGCNConv(torch.nn.Module):\n",
    "\n",
    "    def __init__(self, in_channels, out_channels, relations, num_bases=None, **kwargs):\n",
    "        super(RGCNConv, self).__init__()\n",
    "        \"\"\"设置模型参数\"\"\"\n",
    "        ###################\n",
    "        #### 代码填空 ######\n",
    "        ###################\n",
    "\n",
    "        self.reset_parameters()\n",
    "        \n",
    "    def reset_parameters(self):\n",
    "        \"\"\"初始化模型参数\"\"\"\n",
    "        ###################\n",
    "        #### 代码填空 ######\n",
    "        ###################    \n",
    "        \n",
    "    def forward(self, g, features):\n",
    "        \"\"\"前向传播\"\"\"\n",
    "        ###################\n",
    "        #### 代码填空 ######\n",
    "        ###################\n",
    "        \n",
    "        return outs"
   ]
  },
  {
   "cell_type": "code",
   "execution_count": 8,
   "metadata": {},
   "outputs": [],
   "source": [
    "def train():\n",
    "    \"\"\"训练模型\"\"\"\n",
    "    ###################\n",
    "    #### 代码填空 ######\n",
    "    ###################\n",
    "    return loss.item()"
   ]
  },
  {
   "cell_type": "code",
   "execution_count": 9,
   "metadata": {},
   "outputs": [],
   "source": [
    "@torch.no_grad()\n",
    "def test():\n",
    "    model.eval()\n",
    "    pred = model(graph)[category].argmax(dim=-1)\n",
    "    ###########################################\n",
    "    #### 代码填空，计算train_acc和test_acc ######\n",
    "    ##########################################     \n",
    "    return train_acc.item(), test_acc.item()"
   ]
  },
  {
   "cell_type": "code",
   "execution_count": 10,
   "metadata": {},
   "outputs": [
    {
     "name": "stderr",
     "output_type": "stream",
     "text": [
      "/Users/jamezhan/anaconda3/envs/dgl/lib/python3.6/site-packages/torch/nn/modules/container.py:550: UserWarning: Setting attributes on ParameterDict is not supported.\n",
      "  warnings.warn(\"Setting attributes on ParameterDict is not supported.\")\n",
      "/Users/jamezhan/anaconda3/envs/dgl/lib/python3.6/site-packages/ipykernel_launcher.py:5: UserWarning: indexing with dtype torch.uint8 is now deprecated, please use a dtype torch.bool instead. (Triggered internally at  ../aten/src/ATen/native/IndexingUtils.h:25.)\n",
      "  \"\"\"\n",
      "/Users/jamezhan/anaconda3/envs/dgl/lib/python3.6/site-packages/torch/autograd/__init__.py:132: UserWarning: indexing with dtype torch.uint8 is now deprecated, please use a dtype torch.bool instead. (Triggered internally at  ../aten/src/ATen/native/IndexingUtils.h:25.)\n",
      "  allow_unreachable=True)  # allow_unreachable flag\n",
      "/Users/jamezhan/anaconda3/envs/dgl/lib/python3.6/site-packages/ipykernel_launcher.py:6: UserWarning: indexing with dtype torch.uint8 is now deprecated, please use a dtype torch.bool instead. (Triggered internally at  ../aten/src/ATen/native/IndexingUtils.h:25.)\n",
      "  \n"
     ]
    },
    {
     "name": "stdout",
     "output_type": "stream",
     "text": [
      "Epoch: 05, TrainLoss: 2.0908, TrainAcc: 0.9143 TestAcc: 0.7222\n",
      "Epoch: 10, TrainLoss: 0.8095, TrainAcc: 0.9714 TestAcc: 0.9167\n",
      "Epoch: 15, TrainLoss: 0.2063, TrainAcc: 0.9929 TestAcc: 0.9444\n",
      "Epoch: 20, TrainLoss: 0.0605, TrainAcc: 0.9929 TestAcc: 0.9444\n",
      "Epoch: 25, TrainLoss: 0.0258, TrainAcc: 1.0000 TestAcc: 0.9444\n",
      "Epoch: 30, TrainLoss: 0.0115, TrainAcc: 1.0000 TestAcc: 0.9444\n",
      "Epoch: 35, TrainLoss: 0.0016, TrainAcc: 1.0000 TestAcc: 0.9444\n",
      "Epoch: 40, TrainLoss: 0.0009, TrainAcc: 1.0000 TestAcc: 0.9444\n",
      "Epoch: 45, TrainLoss: 0.0020, TrainAcc: 1.0000 TestAcc: 0.9444\n",
      "Epoch: 50, TrainLoss: 0.0007, TrainAcc: 1.0000 TestAcc: 0.9444\n",
      "Epoch: 55, TrainLoss: 0.0007, TrainAcc: 1.0000 TestAcc: 0.9444\n",
      "Epoch: 60, TrainLoss: 0.0009, TrainAcc: 1.0000 TestAcc: 0.9444\n",
      "Epoch: 65, TrainLoss: 0.0004, TrainAcc: 1.0000 TestAcc: 0.9444\n",
      "Epoch: 70, TrainLoss: 0.0009, TrainAcc: 1.0000 TestAcc: 0.9444\n",
      "Epoch: 75, TrainLoss: 0.0011, TrainAcc: 1.0000 TestAcc: 0.9444\n",
      "Epoch: 80, TrainLoss: 0.0010, TrainAcc: 1.0000 TestAcc: 0.9444\n",
      "Epoch: 85, TrainLoss: 0.0009, TrainAcc: 1.0000 TestAcc: 0.9444\n",
      "Epoch: 90, TrainLoss: 0.0013, TrainAcc: 1.0000 TestAcc: 0.9444\n",
      "Epoch: 95, TrainLoss: 0.0017, TrainAcc: 1.0000 TestAcc: 0.9444\n"
     ]
    }
   ],
   "source": [
    "device = torch.device('cuda' if torch.cuda.is_available() else 'cpu')\n",
    "model = RGCN(num_nodes_dict, 16, relations).to(device)\n",
    "graph = graph.to(device)\n",
    "optimizer = torch.optim.Adam(model.parameters(), lr=0.01, weight_decay=0.0005)\n",
    "loss_fn = nn.CrossEntropyLoss()\n",
    "\n",
    "for epoch in range(1, 100):\n",
    "    loss = train()\n",
    "    train_acc, test_acc = test()\n",
    "    if epoch % 5 == 0:\n",
    "        print(f'Epoch: {epoch:02d}, TrainLoss: {loss:.4f}, TrainAcc: {train_acc:.4f} '\n",
    "              f'TestAcc: {test_acc:.4f}')"
   ]
  },
  {
   "cell_type": "code",
   "execution_count": null,
   "metadata": {},
   "outputs": [],
   "source": []
  }
 ],
 "metadata": {
  "kernelspec": {
   "display_name": "Python [conda env:dgl]",
   "language": "python",
   "name": "conda-env-dgl-py"
  },
  "language_info": {
   "codemirror_mode": {
    "name": "ipython",
    "version": 3
   },
   "file_extension": ".py",
   "mimetype": "text/x-python",
   "name": "python",
   "nbconvert_exporter": "python",
   "pygments_lexer": "ipython3",
   "version": "3.6.10"
  }
 },
 "nbformat": 4,
 "nbformat_minor": 4
}
