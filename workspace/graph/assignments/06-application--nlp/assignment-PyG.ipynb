{
 "cells": [
  {
   "cell_type": "markdown",
   "metadata": {},
   "source": [
    "# 第六次作业"
   ]
  },
  {
   "cell_type": "markdown",
   "metadata": {},
   "source": [
    "在本次作业中，我们利用R-GCN来完整实体分类任务。实体分类和节点分类任务相似，都是对图里的节点进行分类。"
   ]
  },
  {
   "cell_type": "markdown",
   "metadata": {},
   "source": [
    "## 数据集加载"
   ]
  },
  {
   "cell_type": "markdown",
   "metadata": {},
   "source": [
    "我们使用AIFB数据集来完成实体分类。R-GCN的论文里面就使用了这个数据集来完成实体分类任务。"
   ]
  },
  {
   "cell_type": "code",
   "execution_count": 1,
   "metadata": {},
   "outputs": [],
   "source": [
    "import torch\n",
    "import torch.nn.functional as F\n",
    "from torch_geometric.datasets import Entities\n",
    "\n",
    "\n",
    "dataset = Entities('./data', 'AIFB')\n",
    "data = dataset[0]\n",
    "\n",
    "node_idx = torch.cat([data.train_idx, data.test_idx], dim=0)"
   ]
  },
  {
   "cell_type": "code",
   "execution_count": 2,
   "metadata": {},
   "outputs": [
    {
     "data": {
      "text/plain": [
       "Data(edge_index=[2, 58086], edge_type=[58086], train_idx=[140], train_y=[140], test_idx=[36], test_y=[36], num_nodes=8285)"
      ]
     },
     "execution_count": 2,
     "metadata": {},
     "output_type": "execute_result"
    }
   ],
   "source": [
    "data"
   ]
  },
  {
   "cell_type": "code",
   "execution_count": 3,
   "metadata": {},
   "outputs": [
    {
     "data": {
      "text/plain": [
       "90"
      ]
     },
     "execution_count": 3,
     "metadata": {},
     "output_type": "execute_result"
    }
   ],
   "source": [
    "data.edge_type.max().item()+1"
   ]
  },
  {
   "cell_type": "markdown",
   "metadata": {},
   "source": [
    "我们可以看到在AIFB数据集中，有58086条边，90种关系，8285个节点。其中有140个节点是训练集中的节点，36个节点是测试集中的节点。"
   ]
  },
  {
   "cell_type": "markdown",
   "metadata": {},
   "source": [
    "## 代码填空\n",
    "完成空缺的代码部分，完成实体分类任务。"
   ]
  },
  {
   "cell_type": "code",
   "execution_count": 4,
   "metadata": {},
   "outputs": [],
   "source": [
    "# 大家既可以自己写RGCNConv，也可以用如下的代码调用RGCNConv\n",
    "# from torch_geometric.nn import RGCNConv\n",
    "\n",
    "class RGCN(torch.nn.Module):\n",
    "    \n",
    "    def __init__(self, num_nodes, hidden_channels, num_classes, num_relations):\n",
    "        super().__init__()\n",
    "        \n",
    "        ###################\n",
    "        #### 代码填空 ######\n",
    "        ###################\n",
    "        \n",
    "    def reset_parameters(self):\n",
    "        \"\"\"初始化模型参数\"\"\"\n",
    "        ###################\n",
    "        #### 代码填空 ######\n",
    "        ###################\n",
    "    \n",
    "    def forward(self, edge_index, edge_type):\n",
    "        \"\"\"前向传播\"\"\"\n",
    "        ###################\n",
    "        #### 代码填空 ######\n",
    "        ###################"
   ]
  },
  {
   "cell_type": "code",
   "execution_count": 5,
   "metadata": {},
   "outputs": [],
   "source": [
    "def train():\n",
    "    \"\"\"训练模型\"\"\"\n",
    "    ###################\n",
    "    #### 代码填空 ######\n",
    "    ###################\n",
    "    return loss.item()"
   ]
  },
  {
   "cell_type": "code",
   "execution_count": 6,
   "metadata": {},
   "outputs": [],
   "source": [
    "@torch.no_grad()\n",
    "def test():\n",
    "    model.eval()\n",
    "    pred = model(data.edge_index, data.edge_type).argmax(dim=-1)\n",
    "    ###########################################\n",
    "    #### 代码填空，计算train_acc和test_acc ######\n",
    "    ##########################################     \n",
    "    return train_acc.item(), test_acc.item()"
   ]
  },
  {
   "cell_type": "code",
   "execution_count": 7,
   "metadata": {},
   "outputs": [
    {
     "name": "stdout",
     "output_type": "stream",
     "text": [
      "Epoch: 05, TrainLoss: 0.3687, TrainAcc: 0.9714 TestAcc: 0.8333\n",
      "Epoch: 10, TrainLoss: 0.0234, TrainAcc: 1.0000 TestAcc: 0.9444\n",
      "Epoch: 15, TrainLoss: 0.0015, TrainAcc: 1.0000 TestAcc: 0.9167\n",
      "Epoch: 20, TrainLoss: 0.0002, TrainAcc: 1.0000 TestAcc: 0.8889\n",
      "Epoch: 25, TrainLoss: 0.0001, TrainAcc: 1.0000 TestAcc: 0.8889\n",
      "Epoch: 30, TrainLoss: 0.0000, TrainAcc: 1.0000 TestAcc: 0.8889\n",
      "Epoch: 35, TrainLoss: 0.0001, TrainAcc: 1.0000 TestAcc: 0.8889\n",
      "Epoch: 40, TrainLoss: 0.0001, TrainAcc: 1.0000 TestAcc: 0.8889\n",
      "Epoch: 45, TrainLoss: 0.0004, TrainAcc: 1.0000 TestAcc: 0.9167\n",
      "Epoch: 50, TrainLoss: 0.0009, TrainAcc: 1.0000 TestAcc: 0.9444\n",
      "Epoch: 55, TrainLoss: 0.0016, TrainAcc: 1.0000 TestAcc: 0.9444\n",
      "Epoch: 60, TrainLoss: 0.0023, TrainAcc: 1.0000 TestAcc: 0.9444\n",
      "Epoch: 65, TrainLoss: 0.0026, TrainAcc: 1.0000 TestAcc: 0.9444\n",
      "Epoch: 70, TrainLoss: 0.0026, TrainAcc: 1.0000 TestAcc: 0.9444\n",
      "Epoch: 75, TrainLoss: 0.0022, TrainAcc: 1.0000 TestAcc: 0.9444\n",
      "Epoch: 80, TrainLoss: 0.0020, TrainAcc: 1.0000 TestAcc: 0.9444\n",
      "Epoch: 85, TrainLoss: 0.0018, TrainAcc: 1.0000 TestAcc: 0.9444\n",
      "Epoch: 90, TrainLoss: 0.0018, TrainAcc: 1.0000 TestAcc: 0.9444\n",
      "Epoch: 95, TrainLoss: 0.0018, TrainAcc: 1.0000 TestAcc: 0.9167\n"
     ]
    }
   ],
   "source": [
    "device = torch.device('cuda' if torch.cuda.is_available() else 'cpu')\n",
    "model = RGCN(data.num_nodes, 16, dataset.num_classes, dataset.num_relations).to(device)\n",
    "data = data.to(device)\n",
    "optimizer = torch.optim.Adam(model.parameters(), lr=0.01, weight_decay=0.0005)\n",
    "\n",
    "\n",
    "for epoch in range(1, 100):\n",
    "    loss = train()\n",
    "    train_acc, test_acc = test()\n",
    "    if epoch % 5 == 0:\n",
    "        print(f'Epoch: {epoch:02d}, TrainLoss: {loss:.4f}, TrainAcc: {train_acc:.4f} '\n",
    "              f'TestAcc: {test_acc:.4f}')"
   ]
  }
 ],
 "metadata": {
  "kernelspec": {
   "display_name": "gnn",
   "language": "python",
   "name": "gnn"
  },
  "language_info": {
   "codemirror_mode": {
    "name": "ipython",
    "version": 3
   },
   "file_extension": ".py",
   "mimetype": "text/x-python",
   "name": "python",
   "nbconvert_exporter": "python",
   "pygments_lexer": "ipython3",
   "version": "3.8.11"
  }
 },
 "nbformat": 4,
 "nbformat_minor": 4
}
